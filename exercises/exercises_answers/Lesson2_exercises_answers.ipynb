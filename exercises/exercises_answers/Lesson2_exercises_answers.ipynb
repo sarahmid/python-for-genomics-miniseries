{
 "cells": [
  {
   "cell_type": "markdown",
   "metadata": {},
   "source": [
    "# Lesson 2: In-class exercises -- ANSWERS\n",
    "---\n",
    "Sarah Middleton (http://sarahmid.github.io/)\n",
    "\n",
    "http://github.com/sarahmid/python-tutorials"
   ]
  },
  {
   "cell_type": "markdown",
   "metadata": {},
   "source": [
    "---\n",
    "**Instructions: For each problem, write code in the provided code block. Don't forget to run your code to make sure it works.**"
   ]
  },
  {
   "cell_type": "markdown",
   "metadata": {},
   "source": [
    "---\n",
    "**1. Warm up review for lesson 2**\n",
    "\n",
    "Write code to accomplish the following tasks using the concepts from Lesson 2. These exercises will use the following variables (make sure to run this block of code first to initiate these variables):"
   ]
  },
  {
   "cell_type": "code",
   "execution_count": null,
   "metadata": {
    "collapsed": true
   },
   "outputs": [],
   "source": [
    "# RUN THIS BLOCK FIRST!\n",
    "num1 = 3.14159\n",
    "num2 = 6\n",
    "num3 = 100\n",
    "motif = \"GTAAGTC\""
   ]
  },
  {
   "cell_type": "markdown",
   "metadata": {},
   "source": [
    "**(A)** Check if `num1` is greater than twice `num2`. Print a different message depending on the outcome."
   ]
  },
  {
   "cell_type": "code",
   "execution_count": null,
   "metadata": {
    "collapsed": false
   },
   "outputs": [],
   "source": [
    "if num1 > (num2 * 2):\n",
    "    print \"Num1 was greater than 2x num2\"\n",
    "else:\n",
    "    print \"Num1 was NOT greater than 2x num2\""
   ]
  },
  {
   "cell_type": "markdown",
   "metadata": {},
   "source": [
    "**(B)** Print a random integer between `num2` and `num3`."
   ]
  },
  {
   "cell_type": "code",
   "execution_count": null,
   "metadata": {
    "collapsed": false
   },
   "outputs": [],
   "source": [
    "import random\n",
    "\n",
    "print random.randint(num2, num3)"
   ]
  },
  {
   "cell_type": "markdown",
   "metadata": {},
   "source": [
    "**(C)** Check if the length of the string stored in `motif` is less than or equal to 5. Print a different message depending on the outcome."
   ]
  },
  {
   "cell_type": "code",
   "execution_count": null,
   "metadata": {
    "collapsed": false
   },
   "outputs": [],
   "source": [
    "if len(motif) <= 5:\n",
    "    print \"Motif length is less than or equal to 5\"\n",
    "else:\n",
    "    print \"Motif length is greater than 5\""
   ]
  },
  {
   "cell_type": "markdown",
   "metadata": {},
   "source": [
    "**(D)** Round `num1` to the nearest hundredth."
   ]
  },
  {
   "cell_type": "code",
   "execution_count": null,
   "metadata": {
    "collapsed": false
   },
   "outputs": [],
   "source": [
    "print round(num1, 2)"
   ]
  },
  {
   "cell_type": "markdown",
   "metadata": {},
   "source": [
    "---\n",
    "**2. Quadratic formula: checking for negative roots**\n",
    "\n",
    "Recall that when calculating the quadratic formula, you will get an error if `b^2 - 4ac` is negative, since you can't take the square root of a negative number. \n",
    "\n",
    "Edit your quadratic formula program from Lesson 1 so that it checks for this potential error before it occurs. If the error is going to occur, print an informative message saying \"non-real answer\" or similar, and do not calculate the values of x. If the error is not going to occur, continue on to calculating and printing the values of x as you did before."
   ]
  },
  {
   "cell_type": "code",
   "execution_count": null,
   "metadata": {
    "collapsed": false
   },
   "outputs": [],
   "source": [
    "# these numbers will give an error unless we check before square rooting\n",
    "a = 5\n",
    "b = -1\n",
    "c = 3\n",
    "\n",
    "# these numbers will give a real answer. Uncomment them to use.\n",
    "#a = -2\n",
    "#b = 2\n",
    "#c = 1\n",
    "\n",
    "radicand = b**2 - 4*a*c\n",
    "\n",
    "if radicand < 0:\n",
    "    print \"Non-real answer\"\n",
    "else:\n",
    "    x1 = ( (-b) + radicand ** (0.5) ) / float(2*a)\n",
    "    x2 = ( (-b) - radicand ** (0.5) ) / float(2*a)\n",
    "    print \"x =\", x1, \"or\", x2"
   ]
  },
  {
   "cell_type": "markdown",
   "metadata": {},
   "source": [
    "---\n",
    "# Homework exercise\n",
    "\n",
    "---\n",
    "\n",
    "**Motif Checker**\n",
    "\n",
    "Prompt the user for a DNA sequence and a motif to search for using `raw_input()` (the sequence and motif can be any string of A/T/G/C's; see below for examples).\n",
    "\n",
    "**(A)** Find the length of the motif and length of the DNA sequence and make sure the motif is shorter than the sequence. If it is not, print an informative error message."
   ]
  },
  {
   "cell_type": "code",
   "execution_count": null,
   "metadata": {
    "collapsed": false
   },
   "outputs": [],
   "source": [
    "dnaSeq = raw_input(\"Enter a DNA sequence: \")\n",
    "motif = raw_input(\"Enter a motif to search for: \")\n",
    "\n",
    "if len(motif) > len(dnaSeq):\n",
    "    print \"Error: motif sequence is longer than DNA sequence.\""
   ]
  },
  {
   "cell_type": "markdown",
   "metadata": {},
   "source": [
    "**(B)** Adding to your code from part (A): If and only if the motif is shorter than the sequence, go on to check if the motif can be found somewhere within the sequence (hint: use \"`in`\"). Print a message saying whether it was found or not."
   ]
  },
  {
   "cell_type": "code",
   "execution_count": null,
   "metadata": {
    "collapsed": false
   },
   "outputs": [],
   "source": [
    "dnaSeq = raw_input(\"Enter a DNA sequence: \")\n",
    "motif = raw_input(\"Enter a motif to search for: \")\n",
    "\n",
    "if len(motif) > len(dnaSeq):\n",
    "    print \"Error: motif sequence is longer than DNA sequence.\"\n",
    "else:\n",
    "    if motif in dnaSeq:\n",
    "        print \"Found the motif in the sequence.\"\n",
    "    else:\n",
    "        print \"Did not find the motif in the sequence.\""
   ]
  },
  {
   "cell_type": "markdown",
   "metadata": {},
   "source": [
    "> **Example input:**\n",
    "\n",
    "> **Sequence:** AGCTAGCCTGCTAGAAATCGATTGGCTAGCAATCTTATTGTGTTCTACG <br>\n",
    "> **Motif:** ATG (This should pass the check from part (a) but not part (b))\n",
    "\n",
    "> **Sequence:** AGCTAGCCTGCTAGAAATCGATTGGCTAGCAATCTTATTGTGTTCTACG <br>\n",
    "> **Motif:** ATCGA (should pass both checks)\n",
    "\n",
    "> **Sequence:** CTAGCC <br>\n",
    "> **Motif:** ATGGCTAGCTA (code should not pass the check from part (a))"
   ]
  }
 ],
 "metadata": {
  "kernelspec": {
   "display_name": "Python 2",
   "language": "python",
   "name": "python2"
  },
  "language_info": {
   "codemirror_mode": {
    "name": "ipython",
    "version": 2
   },
   "file_extension": ".py",
   "mimetype": "text/x-python",
   "name": "python",
   "nbconvert_exporter": "python",
   "pygments_lexer": "ipython2",
   "version": "2.7.11"
  }
 },
 "nbformat": 4,
 "nbformat_minor": 0
}
