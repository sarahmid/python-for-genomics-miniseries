{
 "cells": [
  {
   "cell_type": "markdown",
   "metadata": {},
   "source": [
    "# Lesson 3: In-class exercises -- ANSWERS\n",
    "---\n",
    "Sarah Middleton (http://sarahmid.github.io/)\n",
    "\n",
    "http://github.com/sarahmid/python-tutorials\n",
    "\n",
    "---\n",
    "**Instructions: For each problem, write code in the provided code block. Don't forget to run your code to make sure it works.**\n",
    "\n",
    "---"
   ]
  },
  {
   "cell_type": "markdown",
   "metadata": {},
   "source": [
    "**1\\. Simple loop practice** \n",
    "\n",
    "Write code to accomplish each of the following tasks using a `for` loop or a `while` loop. Choose whichever type of loop you want for each problem (you can try both, if you want extra practice). Note: you may want to refer to the Lesson 3 \"extra material\" for some hints on how to use `range()` to make these problems easier."
   ]
  },
  {
   "cell_type": "markdown",
   "metadata": {},
   "source": [
    "**(A)** Print the integers between 3 and 35, inclusive."
   ]
  },
  {
   "cell_type": "code",
   "execution_count": null,
   "metadata": {
    "collapsed": false
   },
   "outputs": [],
   "source": [
    "for i in range(3, 36):\n",
    "    print i"
   ]
  },
  {
   "cell_type": "markdown",
   "metadata": {},
   "source": [
    "**(B)** Print the positive integers less than 100 that are multiples of 7."
   ]
  },
  {
   "cell_type": "code",
   "execution_count": null,
   "metadata": {
    "collapsed": false
   },
   "outputs": [],
   "source": [
    "for i in range(7,100,7):\n",
    "    print i"
   ]
  },
  {
   "cell_type": "markdown",
   "metadata": {},
   "source": [
    "**(C)** Starting with x = 1, double x until it's greater than 1000. Print each value of x as you go along."
   ]
  },
  {
   "cell_type": "code",
   "execution_count": null,
   "metadata": {
    "collapsed": false
   },
   "outputs": [],
   "source": [
    "x = 1\n",
    "while x <= 1000:\n",
    "    x = x * 2\n",
    "    print x"
   ]
  },
  {
   "cell_type": "markdown",
   "metadata": {},
   "source": [
    "**(D)** Print each character of the string \"supercalifragilisticexpialidocious\" on a separate line."
   ]
  },
  {
   "cell_type": "code",
   "execution_count": null,
   "metadata": {
    "collapsed": false
   },
   "outputs": [],
   "source": [
    "for c in \"supercalifragilisticexpialidocious\":\n",
    "    print c"
   ]
  },
  {
   "cell_type": "markdown",
   "metadata": {},
   "source": [
    "---"
   ]
  },
  {
   "cell_type": "markdown",
   "metadata": {},
   "source": [
    "**2\\. File reading practice**\n",
    "\n",
    "For these problems, use the file `sequences.txt` provided with this document. This file contains several DNA sequences of different lengths. You can assume each sequence is on a separate line."
   ]
  },
  {
   "cell_type": "markdown",
   "metadata": {},
   "source": [
    "**(A)** Using a loop, read in each sequence from the file and print it. Make sure to remove any newline characters (\\n) while reading in the data."
   ]
  },
  {
   "cell_type": "code",
   "execution_count": null,
   "metadata": {
    "collapsed": false
   },
   "outputs": [],
   "source": [
    "fileName = \"sequences.txt\"\n",
    "ins = open(fileName, 'r')\n",
    "for line in ins:\n",
    "    line = line.rstrip('\\r\\n') \n",
    "    print line\n",
    "ins.close()"
   ]
  },
  {
   "cell_type": "markdown",
   "metadata": {},
   "source": [
    "**(B)** Now, instead of printing the sequences, output the *length* of each sequence to the terminal screen. At the end, print the average length of the sequences. (You should get 77.56 as the average.)\n",
    "\n",
    "*Hint: use the concept of an \"accumulator\" variable to help with computing the average.*"
   ]
  },
  {
   "cell_type": "code",
   "execution_count": null,
   "metadata": {
    "collapsed": false
   },
   "outputs": [],
   "source": [
    "fileName = \"sequences.txt\"\n",
    "totalLen = 0\n",
    "numSeqs = 0\n",
    "\n",
    "ins = open(fileName, 'r')\n",
    "for line in ins:\n",
    "    line = line.rstrip('\\r\\n')\n",
    "    print len(line)\n",
    "   \n",
    "    totalLen = totalLen + len(line)\n",
    "    numSeqs = numSeqs + 1\n",
    "ins.close()\n",
    "\n",
    "print \"\"\n",
    "print \"Avg len:\", float(totalLen) / numSeqs"
   ]
  },
  {
   "cell_type": "markdown",
   "metadata": {},
   "source": [
    "---"
   ]
  },
  {
   "cell_type": "markdown",
   "metadata": {},
   "source": [
    "**3\\. File writing practice**"
   ]
  },
  {
   "cell_type": "markdown",
   "metadata": {},
   "source": [
    "**(A)** Write a script that prints \"Hello, world\" to a file called `hello.txt`"
   ]
  },
  {
   "cell_type": "code",
   "execution_count": null,
   "metadata": {
    "collapsed": true
   },
   "outputs": [],
   "source": [
    "outFile = \"hello.txt\"\n",
    "outs = open(outFile, 'w')\n",
    "outs.write(\"Hello, world\")\n",
    "outs.close()"
   ]
  },
  {
   "cell_type": "markdown",
   "metadata": {},
   "source": [
    "**(B)** Write a script that prints the following pieces of data to a file called `meow.txt`. Each piece of data must be printed to a separate line."
   ]
  },
  {
   "cell_type": "code",
   "execution_count": null,
   "metadata": {
    "collapsed": true
   },
   "outputs": [],
   "source": [
    "# data to be printed:\n",
    "name = \"Mitsworth\"\n",
    "age = 11\n",
    "birthday = \"9/1/04\"\n",
    "coloring = \"Tabby\"\n",
    "livesRemaining = 8\n",
    "\n",
    "# write your code here:\n",
    "outFile = \"meow.txt\"\n",
    "outs = open(outFile, 'w')\n",
    "\n",
    "outs.write(name + \"\\n\")\n",
    "outs.write(str(age) + \"\\n\")\n",
    "outs.write(birthday + \"\\n\")\n",
    "outs.write(coloring + \"\\n\")\n",
    "outs.write(str(livesRemaining))\n",
    "\n",
    "outs.close()"
   ]
  },
  {
   "cell_type": "markdown",
   "metadata": {},
   "source": [
    "---"
   ]
  },
  {
   "cell_type": "markdown",
   "metadata": {},
   "source": [
    "# Homework exercise\n",
    "---"
   ]
  },
  {
   "cell_type": "markdown",
   "metadata": {},
   "source": [
    "**String manipulation 101**\n",
    "\n",
    "These problems follow from problem **2** above. Continue using the file `sequences.txt`."
   ]
  },
  {
   "cell_type": "markdown",
   "metadata": {},
   "source": [
    "**(A)** Instead of printing lengths as before, print the *GC content* of each sequence (GC content is the number of G's and C's in a DNA sequence divided by the total sequence length). Make sure not to do integer division! (You should get ~0.4877 as the average.)"
   ]
  },
  {
   "cell_type": "code",
   "execution_count": null,
   "metadata": {
    "collapsed": false
   },
   "outputs": [],
   "source": [
    "fileName = \"sequences.txt\"\n",
    "totalGC = 0\n",
    "numSeqs = 0\n",
    "\n",
    "ins = open(fileName, 'r')\n",
    "for line in ins:\n",
    "    line = line.rstrip('\\r\\n')\n",
    "   \n",
    "    seqGC = 0 #this needs to be reset to 0 for each sequence\n",
    "    for nt in line:\n",
    "        if (nt == \"G\") or (nt == \"C\"):\n",
    "            seqGC = seqGC + 1\n",
    " \n",
    "    fractGC = float(seqGC) / len(line)\n",
    "    print fractGC\n",
    "   \n",
    "    # add this fraction to the running total so we can compute the avg\n",
    "    totalGC = totalGC + fractGC\n",
    "    numSeqs = numSeqs + 1\n",
    "ins.close()\n",
    "\n",
    "print \"\"\n",
    "print \"Avg GC:\", float(totalGC) / numSeqs"
   ]
  },
  {
   "cell_type": "markdown",
   "metadata": {
    "collapsed": true
   },
   "source": [
    "**(B)** Convert each sequence to its reverse complement. This means changing each nucleotide to its complement (A->T, T->A, G->C, C->G) and reversing the entire sequence. \n",
    "\n",
    "*Hint: we've already touched on everything you need to know to do this. See the practice problems from Lesson 3 for some hints on reversing..*"
   ]
  },
  {
   "cell_type": "code",
   "execution_count": null,
   "metadata": {
    "collapsed": false
   },
   "outputs": [],
   "source": [
    "fileName = \"sequences.txt\"\n",
    "\n",
    "ins = open(fileName, 'r')\n",
    "for line in ins:\n",
    "    line = line.rstrip('\\r\\n')\n",
    "    \n",
    "    # Here I am reversing and complementing at the same time.\n",
    "    # You could also do it as separate steps, it will just be \n",
    "    # less efficient (not a big deal on a small dataset).\n",
    "    revCompl = \"\"\n",
    "    for nt in line:\n",
    "        if nt == \"A\":\n",
    "            revCompl = \"T\" + revCompl\n",
    "        elif nt == \"T\":\n",
    "            revCompl = \"A\" + revCompl\n",
    "        elif nt == \"G\":\n",
    "            revCompl = \"C\" + revCompl\n",
    "        elif nt == \"C\":\n",
    "            revCompl = \"G\" + revCompl\n",
    "        else:\n",
    "            # The below isn't strictly necessary, but it makes for more robust code.\n",
    "            # A good warning/error message should state: (1) the problem, (2) the data that \n",
    "            # caused the problem, and (3) what the code will do about the problem.\n",
    "            print \">> Warning: Encountered unknown nt:\", nt\n",
    "            print \"   Keeping unknown nt as-is.\"\n",
    "            revCompl = nt + revCompl \n",
    "    \n",
    "    # We don't want to print until we've looped through the whole sequence.\n",
    "    # So this print statement should be outside of the sequence for-loop\n",
    "    # (but NOT outside the file for-loop)\n",
    "    print revCompl \n",
    "\n",
    "ins.close()"
   ]
  }
 ],
 "metadata": {
  "kernelspec": {
   "display_name": "Python 2",
   "language": "python",
   "name": "python2"
  },
  "language_info": {
   "codemirror_mode": {
    "name": "ipython",
    "version": 2
   },
   "file_extension": ".py",
   "mimetype": "text/x-python",
   "name": "python",
   "nbconvert_exporter": "python",
   "pygments_lexer": "ipython2",
   "version": "2.7.11"
  }
 },
 "nbformat": 4,
 "nbformat_minor": 0
}
