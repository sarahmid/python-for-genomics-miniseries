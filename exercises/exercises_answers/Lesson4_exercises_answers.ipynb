{
 "cells": [
  {
   "cell_type": "markdown",
   "metadata": {},
   "source": [
    "# Lesson 4: In-class exercises -- ANSWERS\n",
    "---\n",
    "\n",
    "Sarah Middleton (http://sarahmid.github.io/)\n",
    "\n",
    "http://github.com/sarahmid/python-tutorials\n",
    "\n",
    "---\n",
    "\n",
    "**Instructions: For each problem, write code in the provided code block. Don't forget to run your code to make sure it works.**\n",
    "\n",
    "---"
   ]
  },
  {
   "cell_type": "markdown",
   "metadata": {},
   "source": [
    "**1\\. Simple list and dictionary practice**\n",
    "\n",
    "Using the data below, write code to accomplish the following tasks.\n",
    "\n",
    "|    Name   | Favorite Food |\n",
    "|:---------:|:-------------:|\n",
    "|  Wilfred  |     Steak     |\n",
    "|  Manfred  |      Duck     |\n",
    "| Wadsworth |   Spaghetti   |\n",
    "|   Jeeves  |   Ice cream   |\n",
    "| Mitsworth |      Tuna     |"
   ]
  },
  {
   "cell_type": "markdown",
   "metadata": {},
   "source": [
    "**(A)** Make a list of all the names, then loop through the list and print each name out."
   ]
  },
  {
   "cell_type": "code",
   "execution_count": null,
   "metadata": {
    "collapsed": false
   },
   "outputs": [],
   "source": [
    "names = [\"Wilfred\", \"Manfred\", \"Wadsworth\", \"Jeeves\", \"Mitsworth\"]\n",
    "\n",
    "for name in names:\n",
    "    print name"
   ]
  },
  {
   "cell_type": "markdown",
   "metadata": {},
   "source": [
    "**(B)** Below, some of the names and foods have already been added to a dictionary. Fill in the missing entries using the `dict[key] = value` syntax. Then loop through the dictionary and print each name and food combination in the format:\n",
    "\n",
    "    <NAME>'s favorite food is <FOOD>"
   ]
  },
  {
   "cell_type": "code",
   "execution_count": null,
   "metadata": {
    "collapsed": false
   },
   "outputs": [],
   "source": [
    "favFoods = {\"Wilfred\":\"Steak\", \"Manfred\":\"Duck\", \"Wadsworth\":\"Spaghetti\"}\n",
    "\n",
    "# add your code below:\n",
    "favFoods[\"Jeeves\"] = \"Ice cream\"\n",
    "favFoods[\"Mitsworth\"] = \"Tuna\"\n",
    "\n",
    "for person in favFoods:\n",
    "    print person + \"'s favorite food is \" + favFoods[person]"
   ]
  },
  {
   "cell_type": "markdown",
   "metadata": {},
   "source": [
    "**(C)** In the dictionary from part (B), change Wilfred's favorite food to pizza."
   ]
  },
  {
   "cell_type": "code",
   "execution_count": null,
   "metadata": {
    "collapsed": false
   },
   "outputs": [],
   "source": [
    "favFoods[\"Wilfred\"] = \"Pizza\"\n",
    "\n",
    "print favFoods"
   ]
  },
  {
   "cell_type": "markdown",
   "metadata": {},
   "source": [
    "---"
   ]
  },
  {
   "cell_type": "markdown",
   "metadata": {},
   "source": [
    "**2\\. Duplicate removal**\n",
    "\n",
    "Read in the file `genes.txt` and print **only the unique gene IDs** (remove the duplicates). Do not assume repeat IDs appear consecutively in the file. \n",
    "\n",
    "*Hint: see the practice exercises from Lesson 4 for an example of how to remove duplicates using a list.*"
   ]
  },
  {
   "cell_type": "code",
   "execution_count": null,
   "metadata": {
    "collapsed": false
   },
   "outputs": [],
   "source": [
    "inFile = \"genes.txt\"\n",
    "geneList = []\n",
    "ins = open(inFile, 'r')\n",
    "\n",
    "for line in ins:\n",
    "    geneID = line.rstrip('\\r\\n')\n",
    "    if geneID not in geneList:    # keep track of IDs we've already seen using a list\n",
    "        geneList.append(geneID)   # add to list & print only if this ID hasn't been see before\n",
    "        print geneID\n",
    "\n",
    "ins.close()"
   ]
  },
  {
   "cell_type": "markdown",
   "metadata": {},
   "source": [
    "---"
   ]
  },
  {
   "cell_type": "markdown",
   "metadata": {},
   "source": [
    "**3\\. Split practice**\n",
    "\n",
    "Read in the file `init_sites.txt` and compute the average CDS length (i.e. average the values in the 7th column). Your answer should be 236.36."
   ]
  },
  {
   "cell_type": "code",
   "execution_count": null,
   "metadata": {
    "collapsed": false
   },
   "outputs": [],
   "source": [
    "fileName = \"init_sites.txt\"\n",
    "totalLen = 0\n",
    "numLines = 0\n",
    "ins = open(fileName, 'r')\n",
    "ins.readline()\n",
    "\n",
    "for line in ins:\n",
    "    line = line.rstrip('\\n')\n",
    "    lineParts = line.split()\n",
    "    totalLen = totalLen + int(lineParts[6]) #all file input is read as string; must convert to int\n",
    "    numLines = numLines + 1\n",
    "    \n",
    "print float(totalLen)/numLines\n",
    "ins.close()"
   ]
  },
  {
   "cell_type": "markdown",
   "metadata": {},
   "source": [
    "---"
   ]
  },
  {
   "cell_type": "markdown",
   "metadata": {},
   "source": [
    "**4\\. The \"many counters\" problem**\n",
    "\n",
    "Write a script that reads a file of sequences and tallies how many sequences there are of each length. Use `sequences3.txt` as input to test your code. After reading through all the sequences, print the sequence length that was the most common.\n",
    "\n",
    "*Hint: you can use a dictionary to keep track of all the tallies, e.g.:*"
   ]
  },
  {
   "cell_type": "raw",
   "metadata": {},
   "source": [
    "# HINT CODE\n",
    "\n",
    "seq = \"ATGCTGATCGATATA\"\n",
    "length = len(seq)\n",
    "\n",
    "if length not in tallyDictionary:\n",
    "    tallyDictionary[length] = 1     # initialize if first occurrence\n",
    "else:\n",
    "    tallyDictionary[length] += 1    # otherwise just increment the count"
   ]
  },
  {
   "cell_type": "code",
   "execution_count": null,
   "metadata": {
    "collapsed": false
   },
   "outputs": [],
   "source": [
    "inFile = \"sequences3.txt\"\n",
    "lenDict = {}\n",
    "ins = open(inFile, 'r')\n",
    "\n",
    "for line in ins:\n",
    "    line = line.rstrip('\\r\\n') #important to do here, since '\\n' and '\\r' count as a character and thus increases the length of the sequence!\n",
    "    seqLen = len(line)\n",
    "    if seqLen not in lenDict:\n",
    "        lenDict[seqLen] = 1\n",
    "    else:\n",
    "        lenDict[seqLen] += 1\n",
    "ins.close()\n",
    "\n",
    "# loop through the hash to find the sequence with the greatest number of occurences.\n",
    "# also print the number of times each sequence length occured for informational purposes\n",
    "maxFreqSeenSoFar = 0\n",
    "mostFreqLength = None    # \"None\" is just a null value for initialization\n",
    "\n",
    "for name in lenDict:\n",
    "    print name, \":\", lenDict[name]\n",
    "    \n",
    "    if lenDict[name] > maxFreqSeenSoFar:\n",
    "        maxFreqSeenSoFar = lenDict[name]\n",
    "        mostFreqLength = name\n",
    "    \n",
    "print \"\"\n",
    "print \"Most frequent length:\", mostFreqLength, \"(occured\", maxFreqSeenSoFar, \"times)\"\n"
   ]
  },
  {
   "cell_type": "markdown",
   "metadata": {},
   "source": [
    "---"
   ]
  },
  {
   "cell_type": "markdown",
   "metadata": {},
   "source": [
    "# Homework exercise\n",
    "---"
   ]
  },
  {
   "cell_type": "markdown",
   "metadata": {},
   "source": [
    "**Codon table**\n",
    "\n",
    "For this question, use `codon_table.txt`, which contains a list of all possible codons and their corresponding amino acids. We will be using this info to translate a nucleotide sequence into amino acids. Each part of this question builds off the previous parts."
   ]
  },
  {
   "cell_type": "markdown",
   "metadata": {},
   "source": [
    "**(A)** Thinkin' question (short answer, not code): If we want to create a codon dictionary and use it to translate nucleotide sequences, would it be better to use the codons or amino acids as keys? "
   ]
  },
  {
   "cell_type": "raw",
   "metadata": {},
   "source": [
    "Codons should be the keys, since we are starting with nucleotide sequence. That is the info we'll want to use to retrieve the amino acid. If you were instead going from protein --> nucleotide, then you'd want the amino acids to be the keys. (But note that this would be problematic because a single amino acid usually maps to more than one codon!)"
   ]
  },
  {
   "cell_type": "markdown",
   "metadata": {},
   "source": [
    "**(B)** Read in `codon_table.txt` (note that it has a header line) and use it to create a codon dictionary. Then use `raw_input()` prompt the user to enter a single codon (e.g. ATG) and print the amino acid corresponding to that codon to the screen."
   ]
  },
  {
   "cell_type": "code",
   "execution_count": null,
   "metadata": {
    "collapsed": false
   },
   "outputs": [],
   "source": [
    "inFile = \"codon_table.txt\"\n",
    "codon2aa = {}\n",
    "ins = open(inFile, 'r')\n",
    "ins.readline() #skip header\n",
    "\n",
    "for line in ins:\n",
    "    line = line.rstrip('\\n')\n",
    " \n",
    "    # since I know there are exactly 2 values on every line, I can use this shorthand \n",
    "    # notation to automatically \"unpack\" the returned list into named variables.\n",
    "    (codon, aa) = line.split() \n",
    "    if codon not in codon2aa:\n",
    "        codon2aa[codon] = aa\n",
    "    else:\n",
    "        print \"Warning! Multiple entries found for the same codon (\" + codon + \"). Skipping.\"\n",
    "        \n",
    "ins.close()\n",
    "\n",
    "request = raw_input(\"Codon to translate: \").upper() #read & covert to uppercase\n",
    "if request in codon2aa:\n",
    "    print request, \"-->\", codon2aa[request]\n",
    "else:\n",
    "    print \"Did not recognize that codon.\""
   ]
  },
  {
   "cell_type": "markdown",
   "metadata": {},
   "source": [
    "**(C)** Now we will adapt the code in (b) to translate a longer sequence. Instead of prompting the user for a single codon, allow them to enter a longer sequence. First, check that the sequence they entered has a length that is a multiple of 3 (Hint: use the mod operator, %), and print an error message if it is not. If it is valid, then go on to translate every three nucleotides to\n",
    "an amino acid. Print the final amino acid sequence to the screen."
   ]
  },
  {
   "cell_type": "code",
   "execution_count": null,
   "metadata": {
    "collapsed": false
   },
   "outputs": [],
   "source": [
    "inFile = \"codon_table.txt\"\n",
    "codon2aa = {}\n",
    "ins = open(inFile, 'r')\n",
    "ins.readline() #skip header\n",
    "\n",
    "for line in ins:\n",
    "    line = line.rstrip('\\n')\n",
    "    (codon, aa) = line.split() \n",
    "    if codon not in codon2aa:\n",
    "        codon2aa[codon] = aa\n",
    "    else:\n",
    "        print \"Warning! Multiple entries found for the same codon (\" + codon + \"). Skipping.\"\n",
    "        \n",
    "ins.close()\n",
    "\n",
    "# get user input\n",
    "request = raw_input(\"Sequence to translate (multiple of 3): \").upper()\n",
    "protSeq = \"\"\n",
    "\n",
    "if (len(request) % 3) == 0:\n",
    "    \n",
    "    # this indexing/slicing is tricky! definitely try this sort of thing out in the \n",
    "    # interpreter to make sure you get it right.\n",
    "    for i in range(0,len(request),3):\n",
    "        codon = request[i:i+3]\n",
    "        if codon in codon2aa:\n",
    "            protSeq += codon2aa[codon]\n",
    "        else:\n",
    "            print \"Warning! Unrecognized codon (\" + codon + \"). Using X as a place holder.\"\n",
    "            protSeq += \"X\"\n",
    "    \n",
    "    print \"Your protein sequence is:\", protSeq\n",
    "\n",
    "else:\n",
    "    print \"Please enter a sequence length that is a multiple of 3.\""
   ]
  },
  {
   "cell_type": "markdown",
   "metadata": {},
   "source": [
    "**[ OPTIONAL ] (D)** Now, instead of taking user input, you will apply your translator to a set of sequences stored in a file. Read in the sequences from `sequences3.txt` (assume each line is a separate sequence), translate it to amino acids, and print it to a new file called `proteins.txt`."
   ]
  },
  {
   "cell_type": "code",
   "execution_count": null,
   "metadata": {
    "collapsed": true
   },
   "outputs": [],
   "source": [
    "inFile = \"codon_table.txt\"\n",
    "codon2aa = {}\n",
    "ins = open(inFile, 'r')\n",
    "ins.readline() #skip header\n",
    "\n",
    "for line in ins:\n",
    "    line = line.rstrip('\\n')\n",
    "    (codon, aa) = line.split() \n",
    "    if codon not in codon2aa:\n",
    "        codon2aa[codon] = aa\n",
    "    else:\n",
    "        print \"Warning! Multiple entries found for the same codon (\" + codon + \"). Skipping.\"\n",
    "        \n",
    "ins.close()\n",
    "\n",
    "# read file of sequences\n",
    "inFile = \"sequences3.txt\"\n",
    "outFile = \"proteins.txt\"\n",
    "ins = open(inFile, 'r')\n",
    "outs = open(outFile, 'w')\n",
    "lineNum = 1 #just used for nicer error message\n",
    "\n",
    "for line in ins:\n",
    "    line = line.rstrip('\\n')\n",
    "    protSeq = \"\" #best to define this with the loop so it's re-created for each separate sequence.\n",
    "    \n",
    "    if (len(line) % 3) == 0:\n",
    "        for i in range(0,len(line),3):\n",
    "            codon = line[i:i+3]\n",
    "            if codon in codon2aa:\n",
    "                protSeq += codon2aa[codon]\n",
    "            else:\n",
    "                print \"Warning! Unrecognized codon (\"+codon+\"). Using X as a place holder.\"\n",
    "                protSeq += \"X\"\n",
    "                \n",
    "        outs.write(protSeq + '\\n') # write to output file\n",
    "        \n",
    "    else:\n",
    "        print \"Line \"+lineNum+\" - Encountered sequence length that is not a multiple of 3. Skipping.\"\n",
    "        \n",
    "    lineNum += 1\n",
    "    \n",
    "outs.close()\n",
    "ins.close()"
   ]
  }
 ],
 "metadata": {
  "kernelspec": {
   "display_name": "Python 2",
   "language": "python",
   "name": "python2"
  },
  "language_info": {
   "codemirror_mode": {
    "name": "ipython",
    "version": 2
   },
   "file_extension": ".py",
   "mimetype": "text/x-python",
   "name": "python",
   "nbconvert_exporter": "python",
   "pygments_lexer": "ipython2",
   "version": "2.7.11"
  }
 },
 "nbformat": 4,
 "nbformat_minor": 0
}
