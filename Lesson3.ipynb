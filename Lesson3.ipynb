{
 "cells": [
  {
   "cell_type": "markdown",
   "metadata": {},
   "source": [
    "# Lesson 3: Loops and File Reading/Writing\n",
    "---\n",
    "Sarah Middleton (http://sarahmid.github.io/)\n",
    "\n",
    "This tutorial series is intended as a basic introduction to Python for complete beginners, with a special focus on genomics applications. The series was originally designed for use in GCB535 at Penn, and thus the material has been highly condensed to fit into just four class periods. The full set of notebooks and exercises can be found at http://github.com/sarahmid/python-tutorials\n",
    "\n",
    "For a slightly more in-depth (but non-interactive) introduction to Python, see my Programming Bootcamp materials here: http://github.com/sarahmid/programming-bootcamp\n",
    "\n",
    "Note that if you are viewing this notebook online from the github/nbviewer links, you will not be able to use the interactive features of the notebook. You must download the notebook files and run them locally with Jupyter/IPython (http://jupyter.org/)."
   ]
  },
  {
   "cell_type": "markdown",
   "metadata": {},
   "source": [
    "## Table of Contents\n",
    "1. Conditionals II: Loops\n",
    "2. The `while` loop\n",
    "3. The `for` loop\n",
    "4. File reading \n",
    "5. File writing\n",
    "6. Test your understanding: practice set 3"
   ]
  },
  {
   "cell_type": "markdown",
   "metadata": {},
   "source": [
    "# 1. Conditionals II: Loops\n",
    "---\n",
    "\n",
    "In the last lesson, we looked at one way our code can make decisions for us using conditional `if / else` statements. Today, we'll look at the other main type of conditional available in Python: loops. Loops do pretty much exactly what you'd expect based on the name -- they let you \"loop\" over a piece of code over and over until a certain condition has been met, or we run out of things to compute on.\n",
    "\n",
    "Let's look at an example to start off. Let's say you wanted to generate 10 random numbers -- how would you do this? Based on what we've learned so far, all we can really do is copy and paste random.randint(0,1) ten times, like so:"
   ]
  },
  {
   "cell_type": "code",
   "execution_count": 1,
   "metadata": {
    "collapsed": false
   },
   "outputs": [
    {
     "name": "stdout",
     "output_type": "stream",
     "text": [
      "0\n",
      "0\n",
      "1\n",
      "1\n",
      "0\n",
      "1\n",
      "1\n",
      "0\n",
      "0\n",
      "0\n"
     ]
    }
   ],
   "source": [
    "import random\n",
    "print random.randint(0,1)\n",
    "print random.randint(0,1)\n",
    "print random.randint(0,1)\n",
    "print random.randint(0,1)\n",
    "print random.randint(0,1)\n",
    "print random.randint(0,1)\n",
    "print random.randint(0,1)\n",
    "print random.randint(0,1)\n",
    "print random.randint(0,1)\n",
    "print random.randint(0,1)"
   ]
  },
  {
   "cell_type": "markdown",
   "metadata": {},
   "source": [
    "But as you'll see today, we can accomplish the same thing like this:"
   ]
  },
  {
   "cell_type": "code",
   "execution_count": 2,
   "metadata": {
    "collapsed": false
   },
   "outputs": [
    {
     "name": "stdout",
     "output_type": "stream",
     "text": [
      "1\n",
      "0\n",
      "0\n",
      "0\n",
      "1\n",
      "1\n",
      "0\n",
      "0\n",
      "1\n",
      "1\n"
     ]
    }
   ],
   "source": [
    "import random\n",
    "\n",
    "count = 0\n",
    "while count < 10:\n",
    "    print random.randint(0,1)\n",
    "    count = count + 1"
   ]
  },
  {
   "cell_type": "markdown",
   "metadata": {},
   "source": [
    "..or this:"
   ]
  },
  {
   "cell_type": "code",
   "execution_count": 3,
   "metadata": {
    "collapsed": false
   },
   "outputs": [
    {
     "name": "stdout",
     "output_type": "stream",
     "text": [
      "1\n",
      "0\n",
      "1\n",
      "0\n",
      "1\n",
      "0\n",
      "1\n",
      "1\n",
      "0\n",
      "1\n"
     ]
    }
   ],
   "source": [
    "import random\n",
    "\n",
    "for i in range(10):\n",
    "    print random.randint(0,1)"
   ]
  },
  {
   "cell_type": "markdown",
   "metadata": {},
   "source": [
    "These two code blocks are called the `while` loop and `for` loop, respectively. Much like the `if / else` statement, these blocks allow our code to make decisions for us based on some condition. The reason we have two different types of loops is because they are designed with different situations in mind. The `for` loop is specialized for cases where you know exactly how many times you want to loop in advance, and makes it very easy to \"loop over\" the elements of almost any iterable object (more on that in a minute). `while` loops, on the other hand, are more general and are better for when you want to loop indefinitely until some condition is met. "
   ]
  },
  {
   "cell_type": "markdown",
   "metadata": {},
   "source": [
    "# 2. The `while` loop\n",
    "---\n",
    "\n",
    "The `while` loop allows us to repetively execute the same code until some condition is met. The syntax is similar to the `if / else` statement, in that we're going to test some *conditional* statement to see if it is `True` or `False`. As long as the conditional is `True`, we keep looping!\n",
    "\n",
    "---\n",
    "**[ Definition ] The `while` loop**\n",
    "\n",
    "**Purpose:** execute a block of code until the conditional statement becomes `False`. \n",
    "\n",
    "**Syntax:**\n",
    "\n",
    "    while conditional:\n",
    "        this indented code will execute until the conditional becomes False\n",
    "\n",
    "**Example:**"
   ]
  },
  {
   "cell_type": "code",
   "execution_count": 4,
   "metadata": {
    "collapsed": false
   },
   "outputs": [
    {
     "name": "stdout",
     "output_type": "stream",
     "text": [
      "Looped!\n",
      "Looped!\n",
      "Looped!\n",
      "Looped!\n"
     ]
    }
   ],
   "source": [
    "x = 0\n",
    "while x < 4:\n",
    "    print \"Looped!\"\n",
    "    x = x + 1"
   ]
  },
  {
   "cell_type": "markdown",
   "metadata": {},
   "source": [
    "---\n",
    "Any kind of conditional that works with an `if` statement is also valid for a `while` loop. However, we have to be careful when we design our loops to make sure that at *some* point the conditional will become `False`. If it doesn't, then our code will literally keep looping until the end of the universe (or we manually terminate the program!). This is called an \"endless loop\" (see the Lesson3 extra material notebook for some examples). \n",
    "\n",
    "\n",
    "### `while` loops in action\n",
    "\n",
    "Below are several examples of code using `while` loops. For each code block, **first try to guess what the output will be**, and then run the block to see the answer."
   ]
  },
  {
   "cell_type": "code",
   "execution_count": 5,
   "metadata": {
    "collapsed": false
   },
   "outputs": [
    {
     "name": "stdout",
     "output_type": "stream",
     "text": [
      "pizza\n",
      "pizza\n"
     ]
    }
   ],
   "source": [
    "x = 0\n",
    "while x < 2:\n",
    "    print \"pizza\"\n",
    "    x = x + 1"
   ]
  },
  {
   "cell_type": "code",
   "execution_count": 6,
   "metadata": {
    "collapsed": false
   },
   "outputs": [
    {
     "name": "stdout",
     "output_type": "stream",
     "text": [
      "0\n",
      "1\n",
      "2\n",
      "3\n"
     ]
    }
   ],
   "source": [
    "x = 0\n",
    "while x < 4:\n",
    "    print x\n",
    "    x = x + 1"
   ]
  },
  {
   "cell_type": "code",
   "execution_count": 7,
   "metadata": {
    "collapsed": false
   },
   "outputs": [
    {
     "name": "stdout",
     "output_type": "stream",
     "text": [
      "1\n",
      "2\n",
      "3\n",
      "4\n"
     ]
    }
   ],
   "source": [
    "x = 0\n",
    "while x < 4:\n",
    "    x = x + 1\n",
    "    print x"
   ]
  },
  {
   "cell_type": "code",
   "execution_count": 8,
   "metadata": {
    "collapsed": false
   },
   "outputs": [
    {
     "name": "stdout",
     "output_type": "stream",
     "text": [
      "4\n"
     ]
    }
   ],
   "source": [
    "x = 0\n",
    "while x < 4:\n",
    "    x = x + 1\n",
    "print x"
   ]
  },
  {
   "cell_type": "code",
   "execution_count": 9,
   "metadata": {
    "collapsed": false
   },
   "outputs": [
    {
     "name": "stdout",
     "output_type": "stream",
     "text": [
      "x is still True...\n",
      "x is still True...\n"
     ]
    }
   ],
   "source": [
    "import random\n",
    "\n",
    "x = True\n",
    "while x:\n",
    "    print \"x is still True...\"\n",
    "    \n",
    "    if random.randint(0,4) == 0:\n",
    "        x = False"
   ]
  },
  {
   "cell_type": "markdown",
   "metadata": {},
   "source": [
    "### A more useful example: the number guessing game\n",
    "Here's an example of how we could use a `while` loop to create a number guessing game. The reason a `while` loop is useful for this situation is because we don't know ahead of time how many guesses the user will need before they guess the number. The loop makes it easy to handle this:"
   ]
  },
  {
   "cell_type": "code",
   "execution_count": 10,
   "metadata": {
    "collapsed": false
   },
   "outputs": [
    {
     "name": "stdout",
     "output_type": "stream",
     "text": [
      "What number am I thinking of (between 0 and 100)? 50\n",
      "Wrong, guess again.\n",
      "What number am I thinking of (between 0 and 100)? 75\n",
      "Wrong, guess again.\n",
      "What number am I thinking of (between 0 and 100)? 40\n",
      "Wrong, guess again.\n",
      "What number am I thinking of (between 0 and 100)? 56\n",
      "Wow, you got it!\n"
     ]
    }
   ],
   "source": [
    "secretNumber = 56\n",
    "notGuessed = True\n",
    "\n",
    "while (notGuessed):\n",
    "    guess = int(raw_input(\"What number am I thinking of (between 0 and 100)? \"))\n",
    "    if (guess == secretNumber):\n",
    "        print \"Wow, you got it!\"\n",
    "        notGuessed = False\n",
    "    else:\n",
    "        print \"Wrong, guess again.\""
   ]
  },
  {
   "cell_type": "markdown",
   "metadata": {},
   "source": [
    "Let's break down what's happening here:\n",
    "\n",
    "- `notGuessed` is initially `True`, so we enter the loop. \n",
    "- We ask the user to input a number, which we convert to an int and compare against our \"secret\" number.\n",
    "- If the user guessed correctly, we simply set `notGuessed` to `False`. This makes the loop's conditional `False`, so we will stop looping once the conditional is checked again (this will happen once the rest of the code in the block is completed).\n",
    "- If the user guessed wrong, we leave `notGuessed` as `True`, and therefore repeat the loop again.\n"
   ]
  },
  {
   "cell_type": "markdown",
   "metadata": {},
   "source": [
    "# 3. The `for` loop\n",
    "---\n",
    "\n",
    "The `for` loop works fairly differently. The main purpose of the `for` loop is to provide an easier way to (A) loop a specific number of times, and (B) loop over some iterable object and run the same code on each item in the iterable (e.g. every character in a string, every element in a list, or every line in a file). In fact, we can do both of these things with a `while` loop, too, but the `for` loop makes it a little more convenient.\n",
    "\n",
    "---\n",
    "\n",
    "**[ Definition ] The `for` loop**\n",
    "\n",
    "**Purpose:** execute a block of code a specific number of times or loop over an iterable object.\n",
    "\n",
    "**Syntax:**\n",
    "\n",
    "    for var in iterable:\n",
    "        this indented code will execute until we run out of things in the iterable\n",
    "\n",
    "**Notes:**\n",
    "\n",
    "   - *`iterable`* - Anything that you can iterate over, including lists, strings, files, and dictionaries. The actual unit of iteration (i.e. the subunits of the iterable) is pre-defined by Python and depends on the type of the iterable. For strings, the unit is characters. For lists, the unit is elements of the list. We'll talk about others as they come up.\n",
    "   - *`var`* - A variable. You can name this anything you want, and you do not need to declare/define it beforehand.\n",
    "   - What happens here is that *`var`* takes on each value in the iterable, one at a time. We can then use that value in the code of the loop by using `var`. Each time the loop loops, the previous value of `var` is overwritten with the next value in the iterable. When there are no more values in the iterable, the loop ends.\n",
    "\n",
    "**Examples:**"
   ]
  },
  {
   "cell_type": "code",
   "execution_count": 11,
   "metadata": {
    "collapsed": false
   },
   "outputs": [
    {
     "name": "stdout",
     "output_type": "stream",
     "text": [
      "1\n",
      "A\n",
      "45\n",
      "True\n"
     ]
    }
   ],
   "source": [
    "for i in [1, \"A\", 45, True]:\n",
    "    print i"
   ]
  },
  {
   "cell_type": "code",
   "execution_count": 12,
   "metadata": {
    "collapsed": false
   },
   "outputs": [
    {
     "name": "stdout",
     "output_type": "stream",
     "text": [
      "H\n",
      "e\n",
      "l\n",
      "l\n",
      "o\n",
      "!\n"
     ]
    }
   ],
   "source": [
    "for i in \"Hello!\":\n",
    "    print i"
   ]
  },
  {
   "cell_type": "code",
   "execution_count": 13,
   "metadata": {
    "collapsed": false
   },
   "outputs": [
    {
     "name": "stdout",
     "output_type": "stream",
     "text": [
      "0\n",
      "1\n",
      "2\n",
      "3\n",
      "4\n"
     ]
    }
   ],
   "source": [
    "for i in range(5):\n",
    "    print i"
   ]
  },
  {
   "cell_type": "markdown",
   "metadata": {},
   "source": [
    "---\n",
    "### Ways of using the `for` loop\n",
    "\n",
    "Unfortunately, we can't really make full use of `for` loops just yet, since we've only actually discussed one type of iterable so far -- strings. So for now, we'll stick to a discussion of using strings and a simple new function called `range()` to build our `for` loops. Later in this lesson, we'll also talk about how to use `for` loops to read from files, and in Lesson 4 we'll talk about the helpful data structures called lists (arrays) and dictionaries (hash tables). \n",
    "\n",
    "**Iterating over strings**\n",
    "\n",
    "As mentioned above, Python considers any string to be a valid \"iterable\" object. The unit of iteration for a sting is the character. This gives us a super easy way to operate on the characters of any string. For example, in the context of genomics, we often need to look at each nucleotide in a DNA string:"
   ]
  },
  {
   "cell_type": "code",
   "execution_count": 14,
   "metadata": {
    "collapsed": false
   },
   "outputs": [
    {
     "name": "stdout",
     "output_type": "stream",
     "text": [
      "A\n",
      "T\n",
      "G\n",
      "C\n",
      "C\n",
      "T\n",
      "A\n",
      "G\n"
     ]
    }
   ],
   "source": [
    "for nt in \"ATGCCTAG\":\n",
    "    print nt"
   ]
  },
  {
   "cell_type": "markdown",
   "metadata": {},
   "source": [
    "Or, to give a more useful example, we may want to do something like count the number of times a certain nucleotide appears:"
   ]
  },
  {
   "cell_type": "code",
   "execution_count": 15,
   "metadata": {
    "collapsed": false
   },
   "outputs": [
    {
     "name": "stdout",
     "output_type": "stream",
     "text": [
      "Found 24 G's\n"
     ]
    }
   ],
   "source": [
    "sequence = \"ATGGTCGATCGGTCGGGCTCGGGATATTACCGCGCGCGCGATGGCTAGGGGGG\"\n",
    "count = 0\n",
    "\n",
    "for nt in sequence:\n",
    "    if nt == \"G\":\n",
    "        count = count + 1\n",
    "\n",
    "print \"Found\", count, \"G's\""
   ]
  },
  {
   "cell_type": "markdown",
   "metadata": {},
   "source": [
    "We can also use this as a roundabout way of just looping a certain number of times:"
   ]
  },
  {
   "cell_type": "code",
   "execution_count": 16,
   "metadata": {
    "collapsed": false,
    "scrolled": true
   },
   "outputs": [
    {
     "name": "stdout",
     "output_type": "stream",
     "text": [
      "This will print 5 times.\n",
      "This will print 5 times.\n",
      "This will print 5 times.\n",
      "This will print 5 times.\n",
      "This will print 5 times.\n"
     ]
    }
   ],
   "source": [
    "stringOfLength5 = \"AAAAA\"\n",
    "\n",
    "for char in stringOfLength5:\n",
    "    print \"This will print 5 times.\""
   ]
  },
  {
   "cell_type": "markdown",
   "metadata": {},
   "source": [
    "Here, we just ignored the value of `char` in the loop, and just made use of the fact that the loop would loop a pre-defined number of times (equal to the number of characters in the string).\n",
    "\n",
    "There are a lot of cases where doing this sort of thing could be quite useful. For example, at the very beginning of the lesson, we wanted to generate a certain number of random numbers. Luckily, there's an easier way to do this that doesn't involve generating strings of different lengths!\n",
    "\n",
    "**Iterating a certain number of times**\n",
    "\n",
    "Now it's time to introduce a new function called `range()`. You've already seen it in action a few times in this lesson, but now we'll look at it a little more closely. On the most superficial level, all you need to know is that \"`range(x)`\" will cause the `for` loop to repeat `x` times. For example:"
   ]
  },
  {
   "cell_type": "code",
   "execution_count": 17,
   "metadata": {
    "collapsed": false
   },
   "outputs": [
    {
     "name": "stdout",
     "output_type": "stream",
     "text": [
      "This will print 5 times.\n",
      "This will print 5 times.\n",
      "This will print 5 times.\n",
      "This will print 5 times.\n",
      "This will print 5 times.\n"
     ]
    }
   ],
   "source": [
    "for i in range(5):\n",
    "    print \"This will print 5 times.\""
   ]
  },
  {
   "cell_type": "markdown",
   "metadata": {},
   "source": [
    "Digging down a little deeper, though, what `range(x)` actually does is create a **list** of numbers from `0` to `x-1`:"
   ]
  },
  {
   "cell_type": "code",
   "execution_count": 18,
   "metadata": {
    "collapsed": false,
    "scrolled": true
   },
   "outputs": [
    {
     "name": "stdout",
     "output_type": "stream",
     "text": [
      "[0, 1, 2, 3, 4]\n"
     ]
    }
   ],
   "source": [
    "print range(5)"
   ]
  },
  {
   "cell_type": "markdown",
   "metadata": {},
   "source": [
    "We haven't talked about lists yet, so don't worry about this too much yet. All you need to know is that a list is an iterable, so we can use it in a `for` loop. The unit of iteration in a list is the elements of the list. So this means that in addition to just using `range()` to loop a certain number of times, we can also use it to generate numbers to use in our loop:"
   ]
  },
  {
   "cell_type": "code",
   "execution_count": 19,
   "metadata": {
    "collapsed": false
   },
   "outputs": [
    {
     "name": "stdout",
     "output_type": "stream",
     "text": [
      "0\n",
      "1\n",
      "2\n",
      "3\n",
      "4\n"
     ]
    }
   ],
   "source": [
    "for i in range(5):\n",
    "    print i"
   ]
  },
  {
   "cell_type": "markdown",
   "metadata": {},
   "source": [
    "### `for` loops in action\n",
    "\n",
    "Below are several examples of code using `for` loops. For each code block, first try to guess what the output will be, and then run the block to see the answer."
   ]
  },
  {
   "cell_type": "code",
   "execution_count": 20,
   "metadata": {
    "collapsed": false
   },
   "outputs": [
    {
     "name": "stdout",
     "output_type": "stream",
     "text": [
      "0\n",
      "1\n",
      "2\n",
      "3\n"
     ]
    }
   ],
   "source": [
    "for i in range(4):\n",
    "    print i"
   ]
  },
  {
   "cell_type": "code",
   "execution_count": 21,
   "metadata": {
    "collapsed": false
   },
   "outputs": [
    {
     "name": "stdout",
     "output_type": "stream",
     "text": [
      "0\n",
      "2\n",
      "4\n",
      "6\n"
     ]
    }
   ],
   "source": [
    "for i in range(4):\n",
    "    print i * 2"
   ]
  },
  {
   "cell_type": "code",
   "execution_count": 22,
   "metadata": {
    "collapsed": false
   },
   "outputs": [
    {
     "name": "stdout",
     "output_type": "stream",
     "text": [
      "4\n"
     ]
    }
   ],
   "source": [
    "count = 0\n",
    "for i in range(4):\n",
    "    count = count + 1\n",
    "print count"
   ]
  },
  {
   "cell_type": "markdown",
   "metadata": {},
   "source": [
    "> Here we've essentially creating a **counter**. We tend to want to do a lot of counting in programming, so keep this example in mind."
   ]
  },
  {
   "cell_type": "code",
   "execution_count": 23,
   "metadata": {
    "collapsed": false
   },
   "outputs": [
    {
     "name": "stdout",
     "output_type": "stream",
     "text": [
      "6\n"
     ]
    }
   ],
   "source": [
    "count = 0\n",
    "for i in range(4):\n",
    "    count = count + i\n",
    "print count"
   ]
  },
  {
   "cell_type": "markdown",
   "metadata": {},
   "source": [
    "> This is similar to the counter example above, but instead of incrementing by 1 every time, we're summing up various numbers. \n",
    "> This is sometimes called an **accumulator**. Like the counter, it's useful in many different contexts, so keep it in mind."
   ]
  },
  {
   "cell_type": "code",
   "execution_count": 24,
   "metadata": {
    "collapsed": false
   },
   "outputs": [
    {
     "name": "stdout",
     "output_type": "stream",
     "text": [
      "3\n"
     ]
    }
   ],
   "source": [
    "count = 0\n",
    "for nt in \"CTCCAGGG\":\n",
    "    if nt == \"C\":\n",
    "        count = count + 1\n",
    "print count"
   ]
  },
  {
   "cell_type": "code",
   "execution_count": 25,
   "metadata": {
    "collapsed": false
   },
   "outputs": [
    {
     "name": "stdout",
     "output_type": "stream",
     "text": [
      "A*T*G*\n"
     ]
    }
   ],
   "source": [
    "oldSeq = \"ATG\"\n",
    "newSeq = \"\"\n",
    "for nt in oldSeq:\n",
    "    newSeq = newSeq + nt + \"*\"\n",
    "print newSeq"
   ]
  },
  {
   "cell_type": "markdown",
   "metadata": {},
   "source": [
    "> This is sort of like an accumulator for strings. We can build up a string in a loop by repeatedly concatenating characters to an existing string. \n",
    "\n",
    ">**Important:** Don't concatenate onto the original string as you iterate over it. This is bad form and could cause weird results. Just create a new string. (So in this example, we should not modify `oldSeq` while inside the loop. Modifying `newSeq` is fine, though.)"
   ]
  },
  {
   "cell_type": "markdown",
   "metadata": {},
   "source": [
    "### Loop wrap-up: So which kind of loop should I use???\n",
    "You can usually use either type of loop, but one will feel a lot more natural and be easier to code. That's the one you should go with. In general:\n",
    "\n",
    "Use a for loop when:\n",
    "\n",
    "- You know exactly how many times you need to loop (use `range()`)\n",
    "- You want to process each character of a string, item in a list, or line of a file (as we'll see next!)\n",
    "\n",
    "Use a while loop when:\n",
    "\n",
    "- You need to loop until some condition is fulfilled, but you don't know when that will happen"
   ]
  },
  {
   "cell_type": "markdown",
   "metadata": {},
   "source": [
    "# 4. File reading\n",
    "---\n",
    "\n",
    "Reading from and writing to files is something you'll probably be doing a lot in your work. Luckily, Python makes it super easy using the `for` loop.\n",
    "\n",
    "There are 3 basic steps of file reading:\n",
    "\n",
    "1. Open the input file\n",
    "2. Read in data line by line, do some processing\n",
    "3. Close the input file\n",
    "\n",
    "Let's start with an example. \n",
    "\n",
    "In the same directory as this notebook, you should have a file called \"`genes.txt`\". This file contains a simple list of 7 gene names, as follows:\n",
    "\n",
    "    uc007afd.1\n",
    "    uc007aln.1\n",
    "    uc007afr.1\n",
    "    uc007atn.1\n",
    "    uc007bcd.1\n",
    "    uc007bmh.1\n",
    "    uc007byr.1\n",
    "    \n",
    "Often, we will want to read a file like this into our code so that we can use the data. This can be done with a simple for loop, like so:"
   ]
  },
  {
   "cell_type": "code",
   "execution_count": 27,
   "metadata": {
    "collapsed": false
   },
   "outputs": [
    {
     "name": "stdout",
     "output_type": "stream",
     "text": [
      "uc007afd.1\n",
      "\n",
      "uc007aln.1\n",
      "\n",
      "uc007afr.1\n",
      "\n",
      "uc007atn.1\n",
      "\n",
      "uc007bcd.1\n",
      "\n",
      "uc007bmh.1\n",
      "\n",
      "uc007byr.1\n"
     ]
    }
   ],
   "source": [
    "# Read and print genes.txt\n",
    "fileName = \"data/genes.txt\"\n",
    "\n",
    "inFile = open(fileName, 'r')\n",
    "for line in inFile:\n",
    "    print line\n",
    "inFile.close()"
   ]
  },
  {
   "cell_type": "markdown",
   "metadata": {
    "collapsed": true
   },
   "source": [
    "A little explanation of what this code is doing:\n",
    "\n",
    "    inFile = open(fileName, 'r')\n",
    "\n",
    "`open()` returns a link to the indicated file. We store this link in a variable (here, we called this variable `inFile`, but you could call it anything) so that we can use it to read from the file. The `'r'` indicates that we want to open this file in read mode (as opposed to write mode, which is `'w'` as we'll see in a minute).\n",
    "\n",
    "    for line in inFile:\n",
    "        print line\n",
    "    \n",
    "A file is considered an iterable by Python, so we can loop over it directly with a `for` loop! The unit of iteration in files is a *line*, so each time we loop, a single line is copied to the loop variable (here, \"`line`\"). We can then do some processing of that line before we move on to the next one, but for now we'll just print it out to keep things simple. The lines of the file will always be read from first to last.\n",
    "\n",
    "    inFile.close()\n",
    "\n",
    "This closes the link to the file. It is considered good programming practice to always close files when you are done with them. Make sure to put this outside of the `for` loop block -- otherwise you'll close the file while still looping through it!\n",
    "\n",
    "\n",
    "### Important side note: The newline character (`\\n`)\n",
    "\n",
    "You may have noticed that in the output of the code above, there was an extra space printed between each line. Why did this happen?\n",
    "\n",
    "To understand this, we first need to introduce the newline character, '`\\n`'.\n",
    "\n",
    "---\n",
    "**[ Definition ] `\\n`**\n",
    "\n",
    "**Purpose:** The newline character `\\n` marks the end of each line of text in a file.\n",
    "\n",
    "**Notes:**\n",
    "\n",
    "   - Although `\\n` is made up of two characters ( \\ and n), when put together they are considered a *single* character by most programming language and text editors.\n",
    "   - When viewing a file in a text editor, the `\\n` characters will usually all be invisible, so you won't see them. However, the editor will use the locations of the `\\n` characters to figure out where the end of each line should be. If you somehow removed all the `\\n` from your original file, your editor would think everything should be on the same line! \n",
    "   - Different operating systems use different line endings. Linux and modern Macs use `\\n`, so this is what you'll see most often. Windows uses `\\r\\n` as the line ending, however, which can cause issues sometimes. \n",
    "   - **Important:** When we use the Python `print` statement, it automatically adds a `\\n` character to the end of whatever we print. That's why every print statement always prints to a separate line!\n",
    "\n",
    "**Examples:**"
   ]
  },
  {
   "cell_type": "code",
   "execution_count": 28,
   "metadata": {
    "collapsed": false
   },
   "outputs": [
    {
     "name": "stdout",
     "output_type": "stream",
     "text": [
      "Hello\n",
      "World\n"
     ]
    }
   ],
   "source": [
    "print \"Hello\\nWorld\""
   ]
  },
  {
   "cell_type": "code",
   "execution_count": 29,
   "metadata": {
    "collapsed": false
   },
   "outputs": [
    {
     "name": "stdout",
     "output_type": "stream",
     "text": [
      "Hello\n",
      "\n",
      "World\n"
     ]
    }
   ],
   "source": [
    "print \"Hello\\n\\nWorld\""
   ]
  },
  {
   "cell_type": "markdown",
   "metadata": {},
   "source": [
    "---\n",
    "\n",
    "Now that we understand `\\n`... what was going on in the previous example?\n",
    "\n",
    "When we read each line of the file, there is a `\\n` on the end of each line. Like a text editor, Python uses the location of each `\\n` to figure out where one line ends and the next begins. Importantly, though, when Python reads in a given line, it includes the `\\n` (or `\\r\\n`) with it as part of the string. Then, when we go to print out the line using `print`, the `print` statement adds *another* `\\n` on the end! This is what causes the double spacing – we technically have `\\n\\n` on the end of each string.\n",
    "\n",
    "As we'll see later, it can be very problematic to have these pesky `\\n` characters at the end of every line we read in. Therefore, we'll almost always want to remove them before do any computations or processing of the line. To do this, we'll add the following line to our code:\n",
    "\n",
    "    line = line.rstrip('\\r\\n')\n",
    "\n",
    "What `rstrip()` does is strip the indicated characters from the *right* side of the string, if and only if they are present (so if for some reason there was no \\r or \\n, this would do nothing). It will strip all the characters indicated, even if they are not in the indicated order. We'll strip off both `\\r` and `\\n`, just to be safe.\n",
    "\n",
    "**Here's the same code, but with `\\n` removal. You can use this as a general template for almost all file reading!**"
   ]
  },
  {
   "cell_type": "code",
   "execution_count": 30,
   "metadata": {
    "collapsed": false
   },
   "outputs": [
    {
     "name": "stdout",
     "output_type": "stream",
     "text": [
      "uc007afd.1\n",
      "uc007aln.1\n",
      "uc007afr.1\n",
      "uc007atn.1\n",
      "uc007bcd.1\n",
      "uc007bmh.1\n",
      "uc007byr.1\n"
     ]
    }
   ],
   "source": [
    "# Read and print genes.txt\n",
    "fileName = \"data/genes.txt\"\n",
    "\n",
    "inFile = open(fileName, 'r')\n",
    "for line in inFile:\n",
    "    line = line.rstrip('\\r\\n')\n",
    "    print line\n",
    "inFile.close()"
   ]
  },
  {
   "cell_type": "markdown",
   "metadata": {},
   "source": [
    "# 5. File writing\n",
    "---\n",
    "\n",
    "File writing follows a similar pattern to reading. The steps are:\n",
    "\n",
    "1. Open the output file (automatically created if it doesn't exist)\n",
    "2. Write to the file\n",
    "3. Close the output file\n",
    "\n",
    "Here is a simple example of file writing:"
   ]
  },
  {
   "cell_type": "code",
   "execution_count": 42,
   "metadata": {
    "collapsed": true
   },
   "outputs": [],
   "source": [
    "# print some text to a new file\n",
    "fileName = \"output/output.txt\"\n",
    "outFile = open(fileName, 'w')\n",
    "\n",
    "outFile.write(\"This is me,\")\n",
    "outFile.write(\"printing to \\n a file.\")\n",
    "\n",
    "outFile.close()"
   ]
  },
  {
   "cell_type": "markdown",
   "metadata": {},
   "source": [
    "If you run this code, it should print a new file called output.txt to your current directory (probably the directory where this notebook is stored). Go and take a look at it now. It should look like this:\n",
    "\n",
    "    This is me,printing to \n",
    "     a file.\n",
    "\n",
    "Let's go over what this code is doing, line by line.\n",
    "\n",
    "    fileName = \"output.txt\"\n",
    "    outFile = open(fileName, 'w')\n",
    "    \n",
    "Here, we opened output file called \"output.txt\". Note that this looks just like file reading, except we used `'w'` instead of `'r'` in the `open()` function. This tells the function that you want this to be an output file. Note that if this file does not yet exist, Python will create it for you. More importantly, though, if the file *does* already exist, Python will completely overwrite it! So be careful.\n",
    "\n",
    "    outFile.write(\"This is me,\")\n",
    "    outFile.write(\"printing to \\n a file.\")\n",
    "    \n",
    "The `.write()` function is what allows us to specify what text should be written. We can call this function as many times as we want while the output file is open to print things. **Important note:** unlike `print`, `.write()` does *not* automatically add a newline `\\n` to the end of each line you print! You have to manually add these yourself. If you look at the output of this code, you'll see that the line break occurs only where we specified the `\\n`, and nowhere else!\n",
    "\n",
    "    outFile.close()\n",
    "\n",
    "Finally, as with file reading, it's good practice to always close your file connection when you are finished. Strange things can happen if you don't, such as incomplete printing.\n",
    "\n",
    "### You can only print strings to a file!\n",
    "\n",
    "If you want to print numerical data (ints or floats), you will need to convert them to strings before using `.write()`. For example:"
   ]
  },
  {
   "cell_type": "code",
   "execution_count": 43,
   "metadata": {
    "collapsed": false
   },
   "outputs": [
    {
     "ename": "TypeError",
     "evalue": "expected a string or other character buffer object",
     "output_type": "error",
     "traceback": [
      "\u001b[1;31m---------------------------------------------------------------------------\u001b[0m",
      "\u001b[1;31mTypeError\u001b[0m                                 Traceback (most recent call last)",
      "\u001b[1;32m<ipython-input-43-f96c7004e967>\u001b[0m in \u001b[0;36m<module>\u001b[1;34m()\u001b[0m\n\u001b[0;32m      2\u001b[0m \u001b[0moutFile\u001b[0m \u001b[1;33m=\u001b[0m \u001b[0mopen\u001b[0m\u001b[1;33m(\u001b[0m\u001b[0mfileName\u001b[0m\u001b[1;33m,\u001b[0m \u001b[1;34m'w'\u001b[0m\u001b[1;33m)\u001b[0m\u001b[1;33m\u001b[0m\u001b[0m\n\u001b[0;32m      3\u001b[0m \u001b[1;33m\u001b[0m\u001b[0m\n\u001b[1;32m----> 4\u001b[1;33m \u001b[0moutFile\u001b[0m\u001b[1;33m.\u001b[0m\u001b[0mwrite\u001b[0m\u001b[1;33m(\u001b[0m\u001b[1;36m25\u001b[0m\u001b[1;33m)\u001b[0m\u001b[1;33m\u001b[0m\u001b[0m\n\u001b[0m\u001b[0;32m      5\u001b[0m \u001b[1;33m\u001b[0m\u001b[0m\n\u001b[0;32m      6\u001b[0m \u001b[0moutFile\u001b[0m\u001b[1;33m.\u001b[0m\u001b[0mclose\u001b[0m\u001b[1;33m(\u001b[0m\u001b[1;33m)\u001b[0m\u001b[1;33m\u001b[0m\u001b[0m\n",
      "\u001b[1;31mTypeError\u001b[0m: expected a string or other character buffer object"
     ]
    }
   ],
   "source": [
    "fileName = \"output/output2.txt\"\n",
    "outFile = open(fileName, 'w')\n",
    "\n",
    "outFile.write(25)\n",
    "\n",
    "outFile.close()"
   ]
  },
  {
   "cell_type": "code",
   "execution_count": 44,
   "metadata": {
    "collapsed": true
   },
   "outputs": [],
   "source": [
    "# The simple fix: use str()\n",
    "fileName = \"output/output2.txt\"\n",
    "outFile = open(fileName, 'w')\n",
    "\n",
    "outFile.write(str(25))\n",
    "\n",
    "outFile.close()"
   ]
  },
  {
   "cell_type": "markdown",
   "metadata": {},
   "source": [
    "# 6. Test your understanding: practice set 3\n",
    "---\n",
    "\n",
    "For the following blocks of code, **first try to guess what the output will be**, and then run the code yourself. These examples may introduce some ideas and common pitfalls that were not explicitly covered in the text above, so be sure to complete this section."
   ]
  },
  {
   "cell_type": "code",
   "execution_count": 35,
   "metadata": {
    "collapsed": false
   },
   "outputs": [
    {
     "name": "stdout",
     "output_type": "stream",
     "text": [
      "1\n",
      "3\n",
      "5\n",
      "7\n",
      "9\n"
     ]
    }
   ],
   "source": [
    "for i in range(1, 10, 2):\n",
    "    print i"
   ]
  },
  {
   "cell_type": "code",
   "execution_count": 36,
   "metadata": {
    "collapsed": false
   },
   "outputs": [
    {
     "name": "stdout",
     "output_type": "stream",
     "text": [
      "5\n",
      "4\n",
      "3\n",
      "2\n"
     ]
    }
   ],
   "source": [
    "for i in range (5, 1, -1):\n",
    "    print i"
   ]
  },
  {
   "cell_type": "code",
   "execution_count": 37,
   "metadata": {
    "collapsed": false
   },
   "outputs": [
    {
     "name": "stdout",
     "output_type": "stream",
     "text": [
      "0\n",
      "1\n",
      "2\n",
      "3\n",
      "4\n"
     ]
    }
   ],
   "source": [
    "count = 0\n",
    "while (count < 5):\n",
    "    print count\n",
    "    count = count + 1"
   ]
  },
  {
   "cell_type": "code",
   "execution_count": 38,
   "metadata": {
    "collapsed": false
   },
   "outputs": [
    {
     "name": "stdout",
     "output_type": "stream",
     "text": [
      "6\n"
     ]
    }
   ],
   "source": [
    "total = 0\n",
    "for i in range(4):\n",
    "    total = total + i\n",
    "print total"
   ]
  },
  {
   "cell_type": "code",
   "execution_count": 39,
   "metadata": {
    "collapsed": false
   },
   "outputs": [
    {
     "name": "stdout",
     "output_type": "stream",
     "text": [
      "M\n",
      "i\n",
      "t\n",
      "s\n"
     ]
    }
   ],
   "source": [
    "name = \"Mits\"\n",
    "for letter in name:\n",
    "    print letter"
   ]
  },
  {
   "cell_type": "code",
   "execution_count": 40,
   "metadata": {
    "collapsed": false
   },
   "outputs": [
    {
     "name": "stdout",
     "output_type": "stream",
     "text": [
      "Wilfred\n"
     ]
    }
   ],
   "source": [
    "name = \"Wilfred\"\n",
    "newName = \"\"\n",
    "for letter in name:\n",
    "    newName = newName + letter\n",
    "print newName"
   ]
  },
  {
   "cell_type": "code",
   "execution_count": 41,
   "metadata": {
    "collapsed": false
   },
   "outputs": [
    {
     "name": "stdout",
     "output_type": "stream",
     "text": [
      "derfliW\n"
     ]
    }
   ],
   "source": [
    "name = \"Wilfred\"\n",
    "newName = \"\"\n",
    "for letter in name:\n",
    "    newName = letter + newName\n",
    "print newName"
   ]
  }
 ],
 "metadata": {
  "kernelspec": {
   "display_name": "Python 2",
   "language": "python",
   "name": "python2"
  },
  "language_info": {
   "codemirror_mode": {
    "name": "ipython",
    "version": 2
   },
   "file_extension": ".py",
   "mimetype": "text/x-python",
   "name": "python",
   "nbconvert_exporter": "python",
   "pygments_lexer": "ipython2",
   "version": "2.7.11"
  }
 },
 "nbformat": 4,
 "nbformat_minor": 0
}
