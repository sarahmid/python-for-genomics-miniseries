{
 "cells": [
  {
   "cell_type": "markdown",
   "metadata": {},
   "source": [
    "# Lesson 4: Data Structures and File Parsing\n",
    "---\n",
    "Sarah Middleton (http://sarahmid.github.io/)\n",
    "\n",
    "This tutorial series is intended as a basic introduction to Python for complete beginners, with a special focus on genomics applications. The series was originally designed for use in GCB535 at Penn, and thus the material has been highly condensed to fit into just four class periods. The full set of notebooks and exercises can be found at http://github.com/sarahmid/python-tutorials\n",
    "\n",
    "For a slightly more in-depth (but non-interactive) introduction to Python, see my Programming Bootcamp materials here: http://github.com/sarahmid/programming-bootcamp\n",
    "\n",
    "Note that if you are viewing this notebook online from the github/nbviewer links, you will not be able to use the interactive features of the notebook. You must download the notebook files and run them locally with Jupyter/IPython (http://jupyter.org/)."
   ]
  },
  {
   "cell_type": "markdown",
   "metadata": {},
   "source": [
    "## Table of Contents\n",
    "\n",
    "1. Data structures I: Lists\n",
    "2. Data structures II: Dictionaries\n",
    "3. String parsing with `.split()`\n",
    "4. Test your understanding: practice set 4"
   ]
  },
  {
   "cell_type": "markdown",
   "metadata": {},
   "source": [
    "# 1. Data Structures I: Lists\n",
    "---\n",
    "\n",
    "**What is a data structure?**\n",
    "\n",
    "A data structure is basically a way of storing large amounts of data (numbers, strings, etc) in an organized manner, making storage and retrieval easier. There are several different data structures available in Python, but we'll just go over the two most common ones: lists and dictionaries. \n",
    "\n",
    "**What is a list?**\n",
    "\n",
    "A list is one type of built-in data structure in Python that is specialized for storing data in a ordered, sequential manner. We've already seen an example of lists when we used the range() function:"
   ]
  },
  {
   "cell_type": "code",
   "execution_count": 1,
   "metadata": {
    "collapsed": false
   },
   "outputs": [
    {
     "name": "stdout",
     "output_type": "stream",
     "text": [
      "[0, 1, 2, 3, 4]\n"
     ]
    }
   ],
   "source": [
    "print range(5)"
   ]
  },
  {
   "cell_type": "markdown",
   "metadata": {},
   "source": [
    "Now we'll go over more formally what a list is and how it can be used.\n",
    "\n",
    "> **Side note for people who have used other programming languages:**\n",
    "Lists are similar to what other programming languages call arrays. There are actually some subtle (but important) differences between lists and arrays (Python lists are closer to what people usually call a \"linked list\"), but for most purposes they perform the same role. The most obvious difference you might notice is that you don't need to specify ahead of time how large your list will be. This is because the size of the list grows dynamically as you add things to it (it also shrinks automatically as you take things out)."
   ]
  },
  {
   "cell_type": "markdown",
   "metadata": {},
   "source": [
    "---\n",
    "### How lists work\n",
    "\n",
    "A Python list looks something like this when we print it out: \n",
    "\n",
    "    [3, \"cat\", 56.9, 4, 10, True]\n",
    "\n",
    "However, it may be more helpful to think of a list as looking something like this:"
   ]
  },
  {
   "cell_type": "markdown",
   "metadata": {},
   "source": [
    "<img align=\"left\" src=\"images/list_diagram.PNG\" />"
   ]
  },
  {
   "cell_type": "markdown",
   "metadata": {},
   "source": [
    "Here, each thing in the list (**element**) is stored in its own cell, and each cell is given a sequential integer **index**, starting at 0.\n",
    "\n",
    "We use only one variable name to refer to the whole list. To access a specific element in the list, we use the index of the element with following syntax: `listName[index]`. For example:"
   ]
  },
  {
   "cell_type": "code",
   "execution_count": 2,
   "metadata": {
    "collapsed": false
   },
   "outputs": [
    {
     "name": "stdout",
     "output_type": "stream",
     "text": [
      "3\n",
      "cat\n"
     ]
    }
   ],
   "source": [
    "myList = [3, \"cat\", 56.9, 4, 10, True]  # recreating the list above\n",
    "print myList[0]\n",
    "print myList[1]"
   ]
  },
  {
   "cell_type": "markdown",
   "metadata": {},
   "source": [
    "<img align=\"left\" src=\"images/list_diagram2.PNG\" />"
   ]
  },
  {
   "cell_type": "markdown",
   "metadata": {},
   "source": [
    "This ability to access a potentially huge amount of data using just one variable name is part of what makes data structures so useful. Imagine if you had 20,000 gene IDs you wanted to use in your code -- it wouldn't be feasible to create a separate variable name for each one. Instead, you can just dump all the gene IDs into a single list, and access them by index. We'll see how to actually do this sort of thing later in this lesson!"
   ]
  },
  {
   "cell_type": "markdown",
   "metadata": {},
   "source": [
    "---\n",
    "### Important side note: \"in-place\" functions\n",
    "\n",
    "Before we talk more about lists, we need to briefly introduce the idea of \"in-place\" functions. \n",
    "\n",
    "The functions we've seen so far **do not** modify variables directly -- they simply \"return\" a value. For example, `line.rstrip('\\n')` does nothing to the original string `line`, it just *returns* a modified version. To actually change `line`, you need to say `line = line.rstrip('\\n')`, which overwrites `line` with the new value. Here's a similar example in code:"
   ]
  },
  {
   "cell_type": "code",
   "execution_count": 3,
   "metadata": {
    "collapsed": false
   },
   "outputs": [
    {
     "name": "stdout",
     "output_type": "stream",
     "text": [
      "ATGCGTA***********\n",
      "ATGCGTA\n"
     ]
    }
   ],
   "source": [
    "line = \"ATGCGTA***********\"\n",
    "\n",
    "line.rstrip(\"*\")\n",
    "print line\n",
    "\n",
    "line = line.rstrip(\"*\")\n",
    "print line"
   ]
  },
  {
   "cell_type": "markdown",
   "metadata": {},
   "source": [
    "Below, we're going to see a few examples of functions that **do** directly modify the variable that they act on. These functions are called \"in-place\" functions, and I'll make a note of it wherever we encounter them."
   ]
  },
  {
   "cell_type": "markdown",
   "metadata": {},
   "source": [
    "---\n",
    "### Using lists\n",
    "\n",
    "**Creating a new list**\n",
    "\n",
    "A list can expand or shrink as we add or remove things from it. Before we can do this, we need to create the list itself. Most often we'll just start of with an empty list, but sometimes it can be useful to pre-fill the list with certain values. Here are the three main ways to create a list:\n",
    "\n",
    "    myList = []                          # create a new empty list\n",
    "    myList = [element1, element2, etc]   # create a new list with some things already in it\n",
    "    myList = range(num)                  # create a new list automatically filled with a range of numbers\n",
    "\n",
    "Example:"
   ]
  },
  {
   "cell_type": "code",
   "execution_count": 4,
   "metadata": {
    "collapsed": false
   },
   "outputs": [
    {
     "name": "stdout",
     "output_type": "stream",
     "text": [
      "['pizza', 'ice cream', 'cat food']\n"
     ]
    }
   ],
   "source": [
    "shoppingList = [\"pizza\", \"ice cream\", \"cat food\"]\n",
    "print shoppingList"
   ]
  },
  {
   "cell_type": "markdown",
   "metadata": {},
   "source": [
    "<br>\n",
    "**Accessing elements in a list**\n",
    "\n",
    "As we saw above, an element of a list can be accessed using its index. Do not to try to access an index that's not yet in the list -- this will give an error.\n",
    "\n",
    "    someData = myList[index]\n",
    "    \n",
    "You can also index backwards using negative indices:\n",
    "\n",
    "    lastElement = myList[-1]\n",
    "\n",
    "Examples:"
   ]
  },
  {
   "cell_type": "code",
   "execution_count": 5,
   "metadata": {
    "collapsed": false
   },
   "outputs": [
    {
     "name": "stdout",
     "output_type": "stream",
     "text": [
      "First place goes to Sally !\n",
      "Congrats also to our second and third place winners, Billy and Tommy\n",
      "And in last place... Wilfred\n"
     ]
    }
   ],
   "source": [
    "contestRanking = [\"Sally\", \"Billy\", \"Tommy\", \"Wilfred\"]\n",
    "\n",
    "print \"First place goes to\", contestRanking[0], \"!\"\n",
    "print \"Congrats also to our second and third place winners,\", contestRanking[1], \"and\", contestRanking[2]\n",
    "print \"And in last place...\", contestRanking[-1]"
   ]
  },
  {
   "cell_type": "code",
   "execution_count": 6,
   "metadata": {
    "collapsed": false
   },
   "outputs": [
    {
     "name": "stdout",
     "output_type": "stream",
     "text": [
      "6th place goes to"
     ]
    },
    {
     "ename": "IndexError",
     "evalue": "list index out of range",
     "output_type": "error",
     "traceback": [
      "\u001b[1;31m---------------------------------------------------------------------------\u001b[0m",
      "\u001b[1;31mIndexError\u001b[0m                                Traceback (most recent call last)",
      "\u001b[1;32m<ipython-input-6-4f4e64dfe33a>\u001b[0m in \u001b[0;36m<module>\u001b[1;34m()\u001b[0m\n\u001b[0;32m      1\u001b[0m \u001b[0mcontestRanking\u001b[0m \u001b[1;33m=\u001b[0m \u001b[1;33m[\u001b[0m\u001b[1;34m\"Sally\"\u001b[0m\u001b[1;33m,\u001b[0m \u001b[1;34m\"Billy\"\u001b[0m\u001b[1;33m,\u001b[0m \u001b[1;34m\"Tommy\"\u001b[0m\u001b[1;33m,\u001b[0m \u001b[1;34m\"Wilfred\"\u001b[0m\u001b[1;33m]\u001b[0m\u001b[1;33m\u001b[0m\u001b[0m\n\u001b[0;32m      2\u001b[0m \u001b[1;33m\u001b[0m\u001b[0m\n\u001b[1;32m----> 3\u001b[1;33m \u001b[1;32mprint\u001b[0m \u001b[1;34m\"6th place goes to\"\u001b[0m\u001b[1;33m,\u001b[0m \u001b[0mcontestRanking\u001b[0m\u001b[1;33m[\u001b[0m\u001b[1;36m5\u001b[0m\u001b[1;33m]\u001b[0m\u001b[1;33m\u001b[0m\u001b[0m\n\u001b[0m",
      "\u001b[1;31mIndexError\u001b[0m: list index out of range"
     ]
    }
   ],
   "source": [
    "contestRanking = [\"Sally\", \"Billy\", \"Tommy\", \"Wilfred\"]\n",
    "\n",
    "print \"6th place goes to\", contestRanking[5]"
   ]
  },
  {
   "cell_type": "markdown",
   "metadata": {},
   "source": [
    "<br>\n",
    "**Adding to a list**\n",
    "\n",
    "After creating a list, you can add additional elements to the end using `.append()`. This is an **in-place function**, meaning that it directly modifies the list.\n",
    "\n",
    "    myList.append(element)\n",
    "    \n",
    "Insert an element at the specified index. Elements that come after that index will shift up one index. (**in-place function**)\n",
    "\n",
    "    myList.insert(value, index)\n",
    "    \n",
    "Example:"
   ]
  },
  {
   "cell_type": "code",
   "execution_count": 7,
   "metadata": {
    "collapsed": false
   },
   "outputs": [
    {
     "name": "stdout",
     "output_type": "stream",
     "text": [
      " ['pizza', 'ice cream', 'cat food', 'english muffins']\n"
     ]
    }
   ],
   "source": [
    "shoppingList = [\"pizza\", \"ice cream\", \"cat food\"]\n",
    "shoppingList.append(\"english muffins\")\n",
    "\n",
    "print shoppingList"
   ]
  },
  {
   "cell_type": "markdown",
   "metadata": {},
   "source": [
    "<br>\n",
    "**Removing from a list**\n",
    "\n",
    "After creating a list, you can remove elements from it using `.pop()`. Elements that come after the removed element will be moved up one index so that there are no empty spaces in the list. `.pop()` also returns the element that was \"popped\". (**in-place function**)\n",
    "\n",
    "    myList.pop(index)  # removes (and returns) the element at the specified index\n",
    "    myList.pop()       # removes (and returns) the last element\n",
    "    \n",
    "You can also remove the first occurrence of a specified element using `.remove()`. Elements that come after will shift down one index. (**in-place function**)\n",
    "\n",
    "    myList.remove(element) \n",
    "\n",
    "Examples:"
   ]
  },
  {
   "cell_type": "code",
   "execution_count": 8,
   "metadata": {
    "collapsed": false
   },
   "outputs": [
    {
     "name": "stdout",
     "output_type": "stream",
     "text": [
      "make python lesson\n",
      "['Water plants', 'feed cat', 'do dishes']\n"
     ]
    }
   ],
   "source": [
    "toDoList = [\"Water plants\", \"feed cat\", \"do dishes\", \"make python lesson\"]\n",
    "doNext = toDoList.pop()\n",
    "\n",
    "print doNext\n",
    "print toDoList"
   ]
  },
  {
   "cell_type": "code",
   "execution_count": 9,
   "metadata": {
    "collapsed": false
   },
   "outputs": [
    {
     "name": "stdout",
     "output_type": "stream",
     "text": [
      "['peppers', 'sausage', 'pepperoni']\n"
     ]
    }
   ],
   "source": [
    "pizzaToppings = [\"peppers\", \"sausage\", \"bananas\", \"pepperoni\"]\n",
    "pizzaToppings.remove(\"bananas\")\n",
    "\n",
    "print pizzaToppings"
   ]
  },
  {
   "cell_type": "markdown",
   "metadata": {},
   "source": [
    "<br>\n",
    "**Checking if something is in the list**\n",
    "\n",
    "To check if a particular element is in a list, you can just use a special logical operator \"`in`\":\n",
    "    \n",
    "    if element in myList:\n",
    "        ... do something\n",
    "\n",
    "Example:"
   ]
  },
  {
   "cell_type": "code",
   "execution_count": 10,
   "metadata": {
    "collapsed": false
   },
   "outputs": [
    {
     "name": "stdout",
     "output_type": "stream",
     "text": [
      "Not today...\n"
     ]
    }
   ],
   "source": [
    "shoppingList = [\"pizza\", \"ice cream\", \"cat food\"]\n",
    "item = \"20lb bag of reese's\"\n",
    "\n",
    "if item in shoppingList:\n",
    "    print \"I'LL TAKE IT\"\n",
    "else:\n",
    "    print \"Not today...\""
   ]
  },
  {
   "cell_type": "markdown",
   "metadata": {},
   "source": [
    "<br>\n",
    "**Iterating through a list**\n",
    "\n",
    "This should be pretty familiar by now. Since a list is an iterable, we can loop through it using a `for` loop:\n",
    "\n",
    "    for element in myList:\n",
    "        ... do something\n",
    "\n",
    "Example:"
   ]
  },
  {
   "cell_type": "code",
   "execution_count": 11,
   "metadata": {
    "collapsed": false
   },
   "outputs": [
    {
     "name": "stdout",
     "output_type": "stream",
     "text": [
      "Mittens\n",
      "Tatertot\n",
      "Meatball\n",
      "Star Destroyer\n"
     ]
    }
   ],
   "source": [
    "currentCats = [\"Mittens\", \"Tatertot\", \"Meatball\", \"Star Destroyer\"]\n",
    "\n",
    "for cat in currentCats:\n",
    "    print cat"
   ]
  },
  {
   "cell_type": "markdown",
   "metadata": {},
   "source": [
    "<br>\n",
    "**Other list operations**\n",
    "\n",
    "    listLen = len(myList)   # Get the length of a list\n",
    "    \n",
    "    myList.sort()           # Sort (in-place function)\n",
    "\n",
    "    myList.reverse()        # Reverse (in-place function)"
   ]
  },
  {
   "cell_type": "markdown",
   "metadata": {},
   "source": [
    "# 2. Data structures II: Dictionaries\n",
    "---\n",
    "\n",
    "The next data structure we'll talk about is the dictionary. There are two key differences between dictionaries and lists:\n",
    "\n",
    "1. In a dictionary, you retrieve elements using a *key* rather than an index\n",
    "2. Dictionaries are *unordered*\n",
    "\n",
    "**Difference 1: Dictionaries are indexed by keys**\n",
    "\n",
    "With a dictionary (sometimes called a hash table in other programming languages), you access elements by a name (\"key\") that you pick:"
   ]
  },
  {
   "cell_type": "markdown",
   "metadata": {},
   "source": [
    "<img align=\"left\" src=\"images/dictionary_diagram.PNG\" />"
   ]
  },
  {
   "cell_type": "markdown",
   "metadata": {},
   "source": [
    "Keys can be strings or numbers. The only restriction is that each key must be unique.\n",
    "\n",
    "To retrieve a value from the hash, we use the following notation: `dictName[key]`. For example:"
   ]
  },
  {
   "cell_type": "code",
   "execution_count": 12,
   "metadata": {
    "collapsed": false
   },
   "outputs": [
    {
     "name": "stdout",
     "output_type": "stream",
     "text": [
      "cat\n",
      "4\n"
     ]
    }
   ],
   "source": [
    "myDict = {'age':3, 'animal':'cat', 'num':56.9, 203:4, 'count':10, 'flag':True}   # creates the dictionary shown above\n",
    "\n",
    "print myDict['animal']\n",
    "print myDict[203]"
   ]
  },
  {
   "cell_type": "markdown",
   "metadata": {},
   "source": [
    "**Difference 2: Dictionaries are unordered**\n",
    "\n",
    "Lists are all about keeping elements in some order. Though you may change the ordering from time to time, it's still in *some* predictable order at all times.\n",
    "\n",
    "You should think of dictionaries more like magic grab bags. You mark each piece of data with a key, then throw it in the bag. When you want that data back, you just tell the bag the key and it spits out the data assigned to that key. There's no intrinsic order to the things in the bag, they're all just kind of jumbled around in there. Because of this, dictionaries aren't great for situations where we need to keep data in a specific order -- but they're very convenient in other situations, as we'll see in a minute.\n",
    "\n",
    ">Technical side note:\n",
    "Ok, so in reality, there *is* an order to your dictionary. But it is an order that Python picks that obeys complex rules and is essentially unpredictable by us. So as far as we're concerned, it may as well be unordered.\n",
    "\n",
    "For example, here's what happens when we print a dictionary -- you can see that the elements are not maintained in the same order they were added:"
   ]
  },
  {
   "cell_type": "code",
   "execution_count": 13,
   "metadata": {
    "collapsed": false
   },
   "outputs": [
    {
     "name": "stdout",
     "output_type": "stream",
     "text": [
      "{'count': 10, 'age': 3, 203: 4, 'flag': True, 'num': 56.9, 'animal': 'cat'}\n"
     ]
    }
   ],
   "source": [
    "myDict = {'age':3, 'animal':'cat', 'num':56.9, 203:4, 'count':10, 'flag':True}\n",
    "print myDict"
   ]
  },
  {
   "cell_type": "markdown",
   "metadata": {},
   "source": [
    "---\n",
    "### Using dictionaries\n",
    "\n",
    "<br>\n",
    "**Creating a dictionary**\n",
    "\n",
    "Create a new empty dictionary:\n",
    "\n",
    "    myDict = {}\n",
    "\n",
    "Create a new dictionary with some elements:\n",
    "\n",
    "    myDict = {key1: value1, key2: value2}\n",
    "\n",
    "Example:"
   ]
  },
  {
   "cell_type": "code",
   "execution_count": 14,
   "metadata": {
    "collapsed": false
   },
   "outputs": [
    {
     "name": "stdout",
     "output_type": "stream",
     "text": [
      "{'Sally': 35, 'Joe': 25}\n"
     ]
    }
   ],
   "source": [
    "myDict = {\"Joe\": 25, \"Sally\": 35}\n",
    "print myDict"
   ]
  },
  {
   "cell_type": "markdown",
   "metadata": {},
   "source": [
    "<br>\n",
    "**Adding to a dictionary**\n",
    "    \n",
    "Add a new key-value pair to an existing dictionary:\n",
    "\n",
    "    myDict[newKey] = newVal\n",
    "    \n",
    "Note that if the specified key is already in the dictionary, the associated value will be *overwritten* by the new value we assign here!"
   ]
  },
  {
   "cell_type": "code",
   "execution_count": 15,
   "metadata": {
    "collapsed": false
   },
   "outputs": [
    {
     "name": "stdout",
     "output_type": "stream",
     "text": [
      "{'Sally': 35, 'Joe': 104, 'Bobby': 65}\n"
     ]
    }
   ],
   "source": [
    "myDict = {\"Joe\": 25, \"Sally\": 35}\n",
    "myDict[\"Bobby\"] = 65\n",
    "myDict[\"Joe\"] = 104\n",
    "print myDict"
   ]
  },
  {
   "cell_type": "markdown",
   "metadata": {},
   "source": [
    "<br>\n",
    "**Removing from a dictionary**\n",
    "\n",
    "Delete a key-value pair from an existing dictionary:\n",
    "\n",
    "    del hash[existingKey]\n",
    "\n",
    "Note that trying to delete a key that is not in the dictionary will give an error."
   ]
  },
  {
   "cell_type": "markdown",
   "metadata": {},
   "source": [
    "<br>\n",
    "**Check if something is already in the dictionary**\n",
    "\n",
    "This works the same way it did with lists -- just use the `in` operator:\n",
    "\n",
    "    if someKey in myDict:\n",
    "        ... do something"
   ]
  },
  {
   "cell_type": "markdown",
   "metadata": {},
   "source": [
    "<br>\n",
    "**Iterating through a dictionary**\n",
    "\n",
    "A dictionary is an iterable, and the iterable unit is the **key**. So every time we loop, a new key from the dictionary is assigned to the `for` loop variable.\n",
    "\n",
    "    for key in myDict:\n",
    "        ... do something"
   ]
  },
  {
   "cell_type": "code",
   "execution_count": 16,
   "metadata": {
    "collapsed": false
   },
   "outputs": [
    {
     "name": "stdout",
     "output_type": "stream",
     "text": [
      "Name: Sally - Age: 35\n",
      "Name: Joe - Age: 25\n"
     ]
    }
   ],
   "source": [
    "myDict = {\"Joe\": 25, \"Sally\": 35}\n",
    "\n",
    "for person in myDict:\n",
    "    print \"Name:\", person, \"- Age:\", myDict[person]"
   ]
  },
  {
   "cell_type": "markdown",
   "metadata": {},
   "source": [
    "<br>\n",
    "**Special dictionary functions**\n",
    "\n",
    "Often, we'll want to quickly get a list of all the keys or values. Python provides the following functions to do this.\n",
    "\n",
    "Get a list of the keys only:\n",
    "\n",
    "    keyList = myDict.keys()\n",
    "\n",
    "Get a list of the values only:\n",
    "\n",
    "    valueList = myDict.values()"
   ]
  },
  {
   "cell_type": "markdown",
   "metadata": {},
   "source": [
    "---\n",
    "### When are dictionaries useful?\n",
    "\n",
    "One of the most natural applications of the dictionary is to create a \"lookup table\". There are many examples of lookup tables in our everyday lives -- things like a phonebook, the index at the back of a textbook, or (surprise surprise) a regular old dictionary. What these examples have in common is that they allow you to take one piece of information that you already know (a friend's name, a topic, a word) and use it to quickly look up some information that you don't know, but need (a phone number, a page number, a definition).\n",
    "\n",
    "**Here's a simple toy example of creating a phonebook using a dictionary:**"
   ]
  },
  {
   "cell_type": "code",
   "execution_count": 17,
   "metadata": {
    "collapsed": false
   },
   "outputs": [
    {
     "name": "stdout",
     "output_type": "stream",
     "text": [
      "Lookup number for: Sally Shmo\n",
      "958-273-9594\n"
     ]
    }
   ],
   "source": [
    "phonebook = {}\n",
    "phonebook[\"Joe Shmo\"] = \"958-273-7324\"\n",
    "phonebook[\"Sally Shmo\"] = \"958-273-9594\"\n",
    "phonebook[\"George Smith\"] = \"253-586-9933\"\n",
    "\n",
    "name = raw_input(\"Lookup number for: \")\n",
    "print phonebook[name]"
   ]
  },
  {
   "cell_type": "markdown",
   "metadata": {},
   "source": [
    "(Notice that we can store the name of a key in a variable, and then use that variable to access the desired element. In this case, the variable \"`name`\" holds the name that we input in the terminal, e.g. Sally Shmo.)\n",
    "\n",
    "The real power of the dictionary comes when we start generating our lookup tables automatically from data files (instead of creating it manually like we did here). This allows us to very easily cross-reference data across multiple files. We'll look at a full example of this using real data at the end of this lesson!"
   ]
  },
  {
   "cell_type": "markdown",
   "metadata": {},
   "source": [
    "# 3. String parsing with `.split()`\n",
    "---\n",
    "\n",
    "Before we can really dig in to analyzing some data files, there's one more tool we need: `.split()`. This is a simple and useful function that allows you to split any string into separate parts based on some *delimiter*. For example:"
   ]
  },
  {
   "cell_type": "code",
   "execution_count": 18,
   "metadata": {
    "collapsed": false,
    "scrolled": true
   },
   "outputs": [
    {
     "name": "stdout",
     "output_type": "stream",
     "text": [
      "['Hello,', 'how', 'are', 'you', 'today?']\n",
      "['Hello', ' how are you today?']\n",
      "['Hell', ', h', 'w are y', 'u t', 'day?']\n"
     ]
    }
   ],
   "source": [
    "sentence = \"Hello, how are you today?\"\n",
    "\n",
    "print sentence.split()\n",
    "print sentence.split(\",\")\n",
    "print sentence.split(\"o\")"
   ]
  },
  {
   "cell_type": "markdown",
   "metadata": {},
   "source": [
    "---\n",
    "### [ Definition ] `.split()`\n",
    "\n",
    "**Purpose:** Splits a string into parts based on a specified delimiter. If no delimiter is given, splits on whitespace (spaces, tabs, and newlines). Returns a list.\n",
    "\n",
    "**Syntax:**\n",
    "    \n",
    "    result = string.split()\n",
    "    result = string.split(delimiter)\n",
    "\n",
    "**Notes:**\n",
    "\n",
    "- The delimiter itself is not included in the output\n",
    "\n",
    "---"
   ]
  },
  {
   "cell_type": "markdown",
   "metadata": {},
   "source": [
    "### Using `.split()` to parse text files\n",
    "\n",
    "Most data files come in a tabular format, where the data is arranged in rows and columns in some consistent way. For example, you might have a file where each row is a gene, and each column is some type of information about the gene. If you open up this file in a plain text editor, you'll see something like this:\n",
    "\n",
    "```\n",
    "ucscID\tgeneName\tnumReads\tproteinProduct\n",
    "uc007afd.1\tMrpl15\t368\tinternal-out-of-frame\n",
    "uc007afh.1\tLypla1\t783\tn-term-trunc\n",
    "uc007afi.1\tTcea1\t3852\tcanonical\n",
    "uc007afn.1\tAtp6v1h\t1407\tn-term-trunc\n",
    "uc007agb.1\tPcmtd1\t65\tuorf\n",
    "```\n",
    "\n",
    "This might look a bit messy to read by eye, but in fact this is a perfect format for reading into our code. The important point is that on each line, the data belonging to each \"column\" is separated by a consistent delimiter. In this case, the delimiter is a single tab (other common delimiters are commas and spaces). Using the `.split()` function, we can split up each line from this file into its separate \"column\" components so that each piece of information can be used separately. This is often what we mean when we say we're \"parsing\" a data file -- we're breaking it up into meaningful parts.\n",
    "\n",
    "Here's an example of splitting up on of the lines above:"
   ]
  },
  {
   "cell_type": "code",
   "execution_count": 19,
   "metadata": {
    "collapsed": false
   },
   "outputs": [
    {
     "name": "stdout",
     "output_type": "stream",
     "text": [
      "['uc007afd.1', 'Mrpl15', '368', 'internal-out-of-frame']\n"
     ]
    }
   ],
   "source": [
    "line = \"uc007afd.1    Mrpl15    368    internal-out-of-frame\"\n",
    "print line.split()"
   ]
  },
  {
   "cell_type": "markdown",
   "metadata": {},
   "source": [
    "### Example: parsing a file with multiple columns\n",
    "\n",
    "In the same folder as this notebook, you should have a file called `init_sites.txt`. This file contains some real data on translation initiation sites from a ribosome profiling study in mouse (Ingolia et al., Cell 2011). Here's what the first few lines look like:\n",
    "\n",
    "```\n",
    "knownGene\tGeneName\tInitCodon[nt]\tDisttoCDS[codons]\tFramevsCDS\tInitContext[-3to+4]\tCDSLength[codons]\tHarrPeakStart\tHarrPeakWidth\t#HarrReads\tPeakScore\tCodon\tProduct\n",
    "uc007zzs.1\tCbr3\t36\t-23\t-1\tGCCACGG\t22\t35\t3\t379\t4.75\tnearcog\tuorf\n",
    "uc009akk.1\tRac1\t196\t0\t0\tCAGATGC\t192\t195\t3\t3371\t4.70\taug\tcanonical\n",
    "uc009eyb.1\tSaps1\t204\t-91\t1\tGCCACGG\t23\t203\t3\t560\t4.68\tnearcog\tuorf\n",
    "uc008wzq.1\tPpp1cb\t96\t0\t0\tAAGATGG\t327\t94\t4\t3218\t4.56\taug\tcanonical\n",
    "uc007hnl.1\tPa2g4\t38\t-23\t0\tAGCCTGT\t14\t37\t4\t6236\t4.54\tnearcog\tuorf\n",
    "uc007hnl.1\tPa2g4\t40\t-22\t-1\tCCTGTGG\t17\t37\t4\t6236\t4.54\tnearcog\tuorf\n",
    "...\n",
    "...\n",
    "```\n",
    "*(Note: the header looks like it's on two lines here due to text wrapping, but it's actually just one line!)*\n",
    "\n",
    "Let's say the only info I'm want from this file is the initiation context of each translation initiation site. This is contained in column 6 of each row (under the header label \"InitContext[-3to+4]\"). How can I extract this information?\n",
    "\n",
    "**Think for a moment how you might do this, then take a look at the solution:**"
   ]
  },
  {
   "cell_type": "code",
   "execution_count": 20,
   "metadata": {
    "collapsed": false
   },
   "outputs": [
    {
     "name": "stdout",
     "output_type": "stream",
     "text": [
      "GCCACGG\n",
      "CAGATGC\n",
      "GCCACGG\n",
      "AAGATGG\n",
      "AGCCTGT\n",
      "CCTGTGG\n",
      "GACATGG\n",
      "ACCATGA\n",
      "GACATGG\n",
      "GCTATGG\n",
      "AAGATGG\n",
      "ACCATGG\n",
      "GCTATGT\n",
      "GCCATGA\n",
      "ataatgg\n",
      "CAGCTGG\n",
      "GAAATGG\n",
      "GCCATGG\n",
      "AACATGG\n",
      "GAAATGT\n",
      "AATGTGT\n",
      "ACTATGG\n",
      "AGAATGA\n",
      "GTCATGT\n",
      "GCCATGA\n",
      "AGAATGA\n",
      "AGAATGA\n",
      "ACTATTG\n",
      "CTATTGA\n",
      "AAGCTGG\n",
      "AAGATGG\n",
      "AGGATGG\n",
      "GCCATGA\n",
      "GCTCTGT\n",
      "GCCATGG\n",
      "ACCATGG\n",
      "TGAATAT\n",
      "AATATGT\n",
      "AAAATGG\n",
      "AAGATGG\n",
      "GTCATGC\n",
      "AAGACGC\n",
      "ACGATGC\n",
      "AGCATGG\n",
      "GCCATGG\n",
      "GCCATGT\n",
      "GCAATGG\n",
      "AGTATGT\n",
      "GCCATGA\n",
      "GACATGC\n"
     ]
    }
   ],
   "source": [
    "input = open(\"data/init_sites.txt\", 'r')\n",
    "input.readline()  #skip header line\n",
    "\n",
    "for line in input:\n",
    "    line = line.rstrip('\\r\\n')\n",
    "    data = line.split()  #splits line on whitespace (includes tabs), returns a list\n",
    "    print data[5]  #remember, list indexing starts at 0, so the 6th column = index 5 in the list!\n",
    "\n",
    "input.close()"
   ]
  },
  {
   "cell_type": "markdown",
   "metadata": {},
   "source": [
    "If instead we were interested in some other column of the file, we just need to switch `data[5]` to whichever index holds our information of interest, e.g. `data[0]` to get the \"knownGene\" column or `data[2]` to get the \"InitCodon[nt]\". **Remember, though, that the lines of a file are always read in as strings, so you will need to convert numbers using `int()` or `float()` as appropriate.** So for the InitCodon[nt], we will probably want to say `int(data[2])` before doing any computations on those numbers."
   ]
  },
  {
   "cell_type": "markdown",
   "metadata": {},
   "source": [
    "# 4. Test your understanding: practice set 4\n",
    "---\n",
    "\n",
    "For the following blocks of code, **first try to guess what the output will be**, and then run the code yourself. These examples may introduce some ideas and common pitfalls that were not explicitly covered in the text above, so be sure to complete this section."
   ]
  },
  {
   "cell_type": "code",
   "execution_count": 21,
   "metadata": {
    "collapsed": true
   },
   "outputs": [],
   "source": [
    "# RUN THIS BLOCK FIRST TO SET UP VARIABLES! (and re-run it if the lists/dictionary are changed in subsequent code blocks)\n",
    "fruits = {\"apple\":\"red\", \"banana\":\"yellow\", \"grape\":\"purple\"}\n",
    "names = [\"Wilfred\", \"Manfred\", \"Wadsworth\", \"Jeeves\"]\n",
    "ages = [65, 34, 96, 47]\n",
    "str1 = \"Good morning, Mr. Mitsworth.\""
   ]
  },
  {
   "cell_type": "code",
   "execution_count": 22,
   "metadata": {
    "collapsed": false
   },
   "outputs": [
    {
     "name": "stdout",
     "output_type": "stream",
     "text": [
      "4\n"
     ]
    }
   ],
   "source": [
    "print len(ages)"
   ]
  },
  {
   "cell_type": "code",
   "execution_count": 23,
   "metadata": {
    "collapsed": false
   },
   "outputs": [
    {
     "name": "stdout",
     "output_type": "stream",
     "text": [
      "True\n"
     ]
    }
   ],
   "source": [
    "print len(ages) == len(names)"
   ]
  },
  {
   "cell_type": "code",
   "execution_count": 24,
   "metadata": {
    "collapsed": false
   },
   "outputs": [
    {
     "name": "stdout",
     "output_type": "stream",
     "text": [
      "Jeeves\n"
     ]
    }
   ],
   "source": [
    "print names[-1]"
   ]
  },
  {
   "cell_type": "code",
   "execution_count": 25,
   "metadata": {
    "collapsed": false
   },
   "outputs": [
    {
     "name": "stdout",
     "output_type": "stream",
     "text": [
      "65\n",
      "34\n",
      "96\n",
      "47\n"
     ]
    }
   ],
   "source": [
    "for age in ages:\n",
    "    print age"
   ]
  },
  {
   "cell_type": "code",
   "execution_count": 26,
   "metadata": {
    "collapsed": false
   },
   "outputs": [
    {
     "name": "stdout",
     "output_type": "stream",
     "text": [
      "Wilfred is 65\n",
      "Manfred is 34\n",
      "Wadsworth is 96\n",
      "Jeeves is 47\n"
     ]
    }
   ],
   "source": [
    "for i in range(len(names)):\n",
    "    print names[i],\"is\",ages[i]"
   ]
  },
  {
   "cell_type": "code",
   "execution_count": 27,
   "metadata": {
    "collapsed": false
   },
   "outputs": [
    {
     "name": "stdout",
     "output_type": "stream",
     "text": [
      "['Wilfred', 'Manfred', 'Wadsworth', 'Jeeves', 'Willard']\n"
     ]
    }
   ],
   "source": [
    "if \"Willard\" not in names:\n",
    "    names.append(\"Willard\")\n",
    "print names"
   ]
  },
  {
   "cell_type": "code",
   "execution_count": 28,
   "metadata": {
    "collapsed": false,
    "scrolled": true
   },
   "outputs": [
    {
     "name": "stdout",
     "output_type": "stream",
     "text": [
      "[34, 47, 65, 96]\n"
     ]
    }
   ],
   "source": [
    "ages.sort()\n",
    "print ages"
   ]
  },
  {
   "cell_type": "code",
   "execution_count": 29,
   "metadata": {
    "collapsed": false
   },
   "outputs": [
    {
     "name": "stdout",
     "output_type": "stream",
     "text": [
      "None\n"
     ]
    }
   ],
   "source": [
    "ages = ages.sort()\n",
    "print ages"
   ]
  },
  {
   "cell_type": "code",
   "execution_count": 30,
   "metadata": {
    "collapsed": false
   },
   "outputs": [
    {
     "name": "stdout",
     "output_type": "stream",
     "text": [
      "['Good', 'morning,', 'Mr.', 'Mitsworth.']\n",
      "Good morning, Mr. Mitsworth.\n"
     ]
    }
   ],
   "source": [
    "parts = str1.split()\n",
    "print parts\n",
    "print str1"
   ]
  },
  {
   "cell_type": "code",
   "execution_count": 31,
   "metadata": {
    "collapsed": false
   },
   "outputs": [
    {
     "name": "stdout",
     "output_type": "stream",
     "text": [
      "['Good morning', ' Mr. Mitsworth.']\n"
     ]
    }
   ],
   "source": [
    "parts = str1.split(\",\")\n",
    "print parts"
   ]
  },
  {
   "cell_type": "code",
   "execution_count": 32,
   "metadata": {
    "collapsed": false
   },
   "outputs": [
    {
     "name": "stdout",
     "output_type": "stream",
     "text": [
      "[2, 6, 1]\n"
     ]
    }
   ],
   "source": [
    "oldList = [2, 2, 6, 1, 2, 6]\n",
    "newList = []\n",
    "\n",
    "for item in oldList:\n",
    "    if item not in newList:\n",
    "        newList.append(item)\n",
    "print newList"
   ]
  },
  {
   "cell_type": "code",
   "execution_count": 33,
   "metadata": {
    "collapsed": false,
    "scrolled": true
   },
   "outputs": [
    {
     "name": "stdout",
     "output_type": "stream",
     "text": [
      "yellow\n"
     ]
    }
   ],
   "source": [
    "print fruits[\"banana\"]"
   ]
  },
  {
   "cell_type": "code",
   "execution_count": 34,
   "metadata": {
    "collapsed": false
   },
   "outputs": [
    {
     "name": "stdout",
     "output_type": "stream",
     "text": [
      "red\n"
     ]
    }
   ],
   "source": [
    "query = \"apple\"\n",
    "print fruits[query]"
   ]
  },
  {
   "cell_type": "code",
   "execution_count": 35,
   "metadata": {
    "collapsed": false
   },
   "outputs": [
    {
     "ename": "KeyError",
     "evalue": "0",
     "output_type": "error",
     "traceback": [
      "\u001b[1;31m---------------------------------------------------------------------------\u001b[0m",
      "\u001b[1;31mKeyError\u001b[0m                                  Traceback (most recent call last)",
      "\u001b[1;32m<ipython-input-35-7686ce77805a>\u001b[0m in \u001b[0;36m<module>\u001b[1;34m()\u001b[0m\n\u001b[1;32m----> 1\u001b[1;33m \u001b[1;32mprint\u001b[0m \u001b[0mfruits\u001b[0m\u001b[1;33m[\u001b[0m\u001b[1;36m0\u001b[0m\u001b[1;33m]\u001b[0m\u001b[1;33m\u001b[0m\u001b[0m\n\u001b[0m",
      "\u001b[1;31mKeyError\u001b[0m: 0"
     ]
    }
   ],
   "source": [
    "print fruits[0]"
   ]
  },
  {
   "cell_type": "code",
   "execution_count": 36,
   "metadata": {
    "collapsed": false
   },
   "outputs": [
    {
     "name": "stdout",
     "output_type": "stream",
     "text": [
      "['grape', 'apple', 'banana']\n"
     ]
    }
   ],
   "source": [
    "print fruits.keys()"
   ]
  },
  {
   "cell_type": "code",
   "execution_count": 37,
   "metadata": {
    "collapsed": false
   },
   "outputs": [
    {
     "name": "stdout",
     "output_type": "stream",
     "text": [
      "['purple', 'red', 'yellow']\n"
     ]
    }
   ],
   "source": [
    "print fruits.values()"
   ]
  },
  {
   "cell_type": "code",
   "execution_count": 38,
   "metadata": {
    "collapsed": false
   },
   "outputs": [
    {
     "name": "stdout",
     "output_type": "stream",
     "text": [
      "purple\n",
      "red\n",
      "yellow\n"
     ]
    }
   ],
   "source": [
    "for key in fruits:\n",
    "    print fruits[key]"
   ]
  },
  {
   "cell_type": "code",
   "execution_count": 39,
   "metadata": {
    "collapsed": false
   },
   "outputs": [
    {
     "name": "stdout",
     "output_type": "stream",
     "text": [
      "{'grape': 'purple', 'apple': 'red'}\n"
     ]
    }
   ],
   "source": [
    "del fruits[\"banana\"]\n",
    "print fruits"
   ]
  },
  {
   "cell_type": "code",
   "execution_count": 40,
   "metadata": {
    "collapsed": false
   },
   "outputs": [
    {
     "ename": "KeyError",
     "evalue": "'pear'",
     "output_type": "error",
     "traceback": [
      "\u001b[1;31m---------------------------------------------------------------------------\u001b[0m",
      "\u001b[1;31mKeyError\u001b[0m                                  Traceback (most recent call last)",
      "\u001b[1;32m<ipython-input-40-55a4a5628a2c>\u001b[0m in \u001b[0;36m<module>\u001b[1;34m()\u001b[0m\n\u001b[1;32m----> 1\u001b[1;33m \u001b[1;32mprint\u001b[0m \u001b[0mfruits\u001b[0m\u001b[1;33m[\u001b[0m\u001b[1;34m\"pear\"\u001b[0m\u001b[1;33m]\u001b[0m\u001b[1;33m\u001b[0m\u001b[0m\n\u001b[0m",
      "\u001b[1;31mKeyError\u001b[0m: 'pear'"
     ]
    }
   ],
   "source": [
    "print fruits[\"pear\"]"
   ]
  },
  {
   "cell_type": "code",
   "execution_count": 41,
   "metadata": {
    "collapsed": false
   },
   "outputs": [
    {
     "name": "stdout",
     "output_type": "stream",
     "text": [
      "red or green\n"
     ]
    }
   ],
   "source": [
    "fruits[\"apple\"] = fruits[\"apple\"] + \" or green\"\n",
    "print fruits[\"apple\"]"
   ]
  },
  {
   "cell_type": "code",
   "execution_count": 42,
   "metadata": {
    "collapsed": false
   },
   "outputs": [
    {
     "name": "stdout",
     "output_type": "stream",
     "text": [
      "green\n"
     ]
    }
   ],
   "source": [
    "fruits[\"pear\"] = \"green\"\n",
    "print fruits[\"pear\"]"
   ]
  }
 ],
 "metadata": {
  "kernelspec": {
   "display_name": "Python 2",
   "language": "python",
   "name": "python2"
  },
  "language_info": {
   "codemirror_mode": {
    "name": "ipython",
    "version": 2
   },
   "file_extension": ".py",
   "mimetype": "text/x-python",
   "name": "python",
   "nbconvert_exporter": "python",
   "pygments_lexer": "ipython2",
   "version": "2.7.11"
  }
 },
 "nbformat": 4,
 "nbformat_minor": 0
}
