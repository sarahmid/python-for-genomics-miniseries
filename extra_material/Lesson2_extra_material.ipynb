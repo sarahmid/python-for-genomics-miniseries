{
 "cells": [
  {
   "cell_type": "markdown",
   "metadata": {
    "collapsed": false
   },
   "source": [
    "# Lesson 2: Extra material\n",
    "---\n",
    "Sarah Middleton (http://sarahmid.github.io/)\n",
    "\n",
    "http://github.com/sarahmid/python-tutorials"
   ]
  },
  {
   "cell_type": "markdown",
   "metadata": {},
   "source": [
    "## Other forms of the if / else statement\n",
    "---\n",
    "\n",
    "**Multi-`if/else`** -\n",
    "\n",
    "Sometimes we want to check multiple conditions and do different things depending on which condition is met. One way to do this is with the multi-`if/else`. Here, we use a series of \"`elif`\" blocks between the `if` and `else` to check for additional conditions. Importantly, note that only one of these code blocks will be executed!"
   ]
  },
  {
   "cell_type": "code",
   "execution_count": 1,
   "metadata": {
    "collapsed": false
   },
   "outputs": [
    {
     "name": "stdout",
     "output_type": "stream",
     "text": [
      "Choose option 1, 2, or 3: 2\n",
      "You have chosen option 2: ice cream\n"
     ]
    }
   ],
   "source": [
    "choice = raw_input(\"Choose option 1, 2, or 3: \") #prompts user to input something on the command line, saves it in a variable. see below!\n",
    "if (choice == \"1\"):\n",
    "    print \"You have chosen option 1: cake\"\n",
    "elif (choice == \"2\"):\n",
    "    print \"You have chosen option 2: ice cream\"\n",
    "elif (choice == \"3\"):\n",
    "    print \"You have chosen option 3: broccoli\"\n",
    "else:\n",
    "    print \"Invalid input.\""
   ]
  },
  {
   "cell_type": "markdown",
   "metadata": {},
   "source": [
    "**Nested `if/else`**:\n",
    "\n",
    "You can put pretty much anything inside the code blocks of an `if/else` statement, including additional `if/else` statements! Just make sure that all the indentation is correct."
   ]
  },
  {
   "cell_type": "code",
   "execution_count": 5,
   "metadata": {
    "collapsed": false
   },
   "outputs": [
    {
     "name": "stdout",
     "output_type": "stream",
     "text": [
      "What is 1+1? 2\n",
      "Correct!\n",
      "What is 2314*32626? 5435245\n",
      "Sorry, that's wrong.\n"
     ]
    }
   ],
   "source": [
    "test = raw_input(\"What is 1+1? \") #prompts user to input something on the command line, saves it in a variable. see below!\n",
    "if (test == \"2\"):\n",
    "    print \"Correct!\"\n",
    "    test2 = raw_input(\"What is 2314*32626? \")\n",
    "    if (test2 == \"75496564\"):\n",
    "        print \"Correct! You passed all my tests!\"\n",
    "    else:\n",
    "        print \"Sorry, that's wrong.\"\n",
    "else:\n",
    "    print \"Sorry, that's wrong.\""
   ]
  },
  {
   "cell_type": "markdown",
   "metadata": {},
   "source": [
    "## Variations on module importing\n",
    "---\n",
    "\n",
    "There are actually several different ways to import modules that can make them easier to work with. Here are some examples.\n",
    "\n",
    "You can import more than one module at a time:\n",
    "\n",
    "    import math, random\n",
    "\n",
    "You can give a module an alias and use that in your code (good when module name is long):\n",
    "\n",
    "    import random as rnd\n",
    "    rnd.randint(1,100)\n",
    "\n",
    "You can import individual functions from a module (note that if you do this, you must call the function WITHOUT prefixing it):\n",
    "\n",
    "    from math import log10\n",
    "    log10(100)\n",
    "\n",
    "You can import all functions as above if you use * (so then you can use all functions without prefixing with the module name):\n",
    "\n",
    "    from math import *\n",
    "    sqrt(64)\n",
    "\n",
    "Note that this last variation is generally not considered to be a good programming practice because it can lead to a lot of confusion in large scripts with many modules in use (someone reading your script who is not familiar with the modules might have a very hard time figuring out where all these functions are coming from!). Use it sparingly, if at all.\n"
   ]
  },
  {
   "cell_type": "markdown",
   "metadata": {},
   "source": [
    "## Reading the Python Documentation\n",
    "---\n",
    "\n",
    "The official Python documentation can be found here: https://docs.python.org/2/index.html\n",
    "\n",
    "These docs contain a description of every function, module, data type, etc found in standard Python. These docs will often be the first hit when you Google something about Python, so it's worthwhile to go over quickly how to read a typical doc entry.\n",
    "\n",
    "Here's an example doc entry:\n",
    "\n",
    "![pydocs1](../images/pydocs1.png)\n",
    "\n",
    "Many functions have both required and optional parameters. These are indicated as above. The meaning of each parameter is usually described in the text below the function. \n",
    "\n",
    "Here's a trickier example:\n",
    "\n",
    "![pydocs2](../images/pydocs2.png)\n",
    "\n",
    "This function has one required parameter (iterable) and three optional parameters. However, in order to use the last optional parameter (reverse), you must use all the previous optional parameters as well. \n",
    "\n",
    "So for example, here are all the possibilities that are allowed for this function:\n",
    "```\n",
    "sorted(iterable)\n",
    "sorted(iterable, cmp)\n",
    "sorted(iterable, cmp, key)\n",
    "sorted(iterable, cmp, key, reverse)\n",
    "```\n",
    "\n",
    "These would not be allowed:\n",
    "```\n",
    "sorted(cmp)\n",
    "sorted(iterable, key)\n",
    "sorted(iterable, reverse, cmp, key)\n",
    "```\n",
    "\n",
    "(Of course, when you actually use these functions, you sub in your own variables or values instead of the formal parameter names!)"
   ]
  }
 ],
 "metadata": {
  "kernelspec": {
   "display_name": "Python 2",
   "language": "python",
   "name": "python2"
  },
  "language_info": {
   "codemirror_mode": {
    "name": "ipython",
    "version": 2
   },
   "file_extension": ".py",
   "mimetype": "text/x-python",
   "name": "python",
   "nbconvert_exporter": "python",
   "pygments_lexer": "ipython2",
   "version": "2.7.11"
  },
  "name": "Lesson2.ipynb"
 },
 "nbformat": 4,
 "nbformat_minor": 0
}
