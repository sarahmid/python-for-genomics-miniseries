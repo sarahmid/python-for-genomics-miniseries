{
 "cells": [
  {
   "cell_type": "markdown",
   "metadata": {},
   "source": [
    "# Lesson 1: Extra material\n",
    "---\n",
    "Sarah Middleton (http://sarahmid.github.io/)\n",
    "\n",
    "http://github.com/sarahmid/python-tutorials"
   ]
  },
  {
   "cell_type": "markdown",
   "metadata": {},
   "source": [
    "## Error messages\n",
    "---\n",
    "\n",
    "In the main lesson, we ran the following example:"
   ]
  },
  {
   "cell_type": "code",
   "execution_count": 1,
   "metadata": {
    "collapsed": false,
    "scrolled": true
   },
   "outputs": [
    {
     "ename": "TypeError",
     "evalue": "cannot concatenate 'str' and 'int' objects",
     "output_type": "error",
     "traceback": [
      "\u001b[1;31m---------------------------------------------------------------------------\u001b[0m",
      "\u001b[1;31mTypeError\u001b[0m                                 Traceback (most recent call last)",
      "\u001b[1;32m<ipython-input-1-c2661f6f9c37>\u001b[0m in \u001b[0;36m<module>\u001b[1;34m()\u001b[0m\n\u001b[1;32m----> 1\u001b[1;33m \u001b[1;32mprint\u001b[0m \u001b[1;34m\"5\"\u001b[0m \u001b[1;33m+\u001b[0m \u001b[1;36m5\u001b[0m\u001b[1;33m\u001b[0m\u001b[0m\n\u001b[0m",
      "\u001b[1;31mTypeError\u001b[0m: cannot concatenate 'str' and 'int' objects"
     ]
    }
   ],
   "source": [
    "print \"5\" + 5"
   ]
  },
  {
   "cell_type": "markdown",
   "metadata": {},
   "source": [
    "In the example above, we had an error in our code and Python printed an error message. The format of these messages will vary depending on how you're running your code (in a notebook, in a script, or in the interpreter), but there will usually be a few key pieces of useful information contained in the message that will hint at what the problem was: \n",
    "\n",
    "   1. The line of code where the error occured. The error message above indicates this with a green `---->` (if there were more than one line of code here, this would be more informative!). \n",
    "   2. The general type of error. Above, this is `TypeError`.\n",
    "   3. A little about what that error means. This usually follows the error type. Above, this is \"`cannot concatenate 'str' and 'int' objects`\"). \n",
    "   \n",
    "A good place to start in fixing an error is to go to the problematic line of code and see if you can spot anything wrong, especially involving whatever is hinted at in the message. If that fails, and you really don't understand what the error means, try googling \"python [NameOfErrorType]\" (e.g. \"python TypeError\"). This will usually pull up several forums with people who had the same general type of error. When reading through these forums, don't focus too much on the specifics of the problem (it will never been the exact same situation as you) but rather try to look for types of things that can cause the error and how to fix them."
   ]
  },
  {
   "cell_type": "markdown",
   "metadata": {},
   "source": [
    "## Variations on the print statement\n",
    "---\n",
    "\n",
    "Here's a reference table summarizing the different variations of the print statement. Don't worry about memorizing this; just be aware of the different kinds of things that are possible:\n",
    "\n",
    "![print variations](../images/print_variations_table.PNG)"
   ]
  }
 ],
 "metadata": {
  "kernelspec": {
   "display_name": "Python 2",
   "language": "python",
   "name": "python2"
  },
  "language_info": {
   "codemirror_mode": {
    "name": "ipython",
    "version": 2
   },
   "file_extension": ".py",
   "mimetype": "text/x-python",
   "name": "python",
   "nbconvert_exporter": "python",
   "pygments_lexer": "ipython2",
   "version": "2.7.11"
  },
  "name": "Lesson1.ipynb"
 },
 "nbformat": 4,
 "nbformat_minor": 0
}
