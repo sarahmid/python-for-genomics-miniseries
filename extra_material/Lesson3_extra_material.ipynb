{
 "cells": [
  {
   "cell_type": "markdown",
   "metadata": {},
   "source": [
    "# Lesson 3: Extra material\n",
    "---\n",
    "Sarah Middleton (http://sarahmid.github.io/)\n",
    "\n",
    "http://github.com/sarahmid/python-tutorials"
   ]
  },
  {
   "cell_type": "markdown",
   "metadata": {},
   "source": [
    "## Endless loops\n",
    "---\n",
    "\n",
    "With `while` loops, there's always a risk of accidentally creating a conditional that never becomes `False`, leading to an endless loop. Luckily, this can usually be avoided just by checking over your loop logic carefully.\n",
    "\n",
    "Let's look at an example. The following code is an endless loop:\n",
    "\n",
    "    count = 1\n",
    "    while (count <= 10):\n",
    "\t    print count\n",
    "\n",
    "Output:\n",
    "    \n",
    "    1\n",
    "    1\n",
    "    1\n",
    "    1\n",
    "    1\n",
    "    ... (never ending...)\n",
    "    \n",
    "Don't try running this code in the notebook -- it will just cause the notebook to freeze up because it never stops running! (Note: if you ever create an endless loop in your Jupyter notebook, click the \"interrupt kernel\" (square) button at the top to stop it.)\n",
    "\n",
    "So what is going on here? Notice that unlike our other examples so far, we never increment `count` within the loop. Therefore `count` always remains 1, and so the `while` condition is always `True` and we keep looping forever.\n",
    "\n",
    "**Let's see if you can spot an endless loop before it occurs!** For the following examples, guess whether or not the loop will be endless (note that these blocks will **not** be runable to prevent you from freezing up your notebook; see below for the answers)."
   ]
  },
  {
   "cell_type": "raw",
   "metadata": {},
   "source": [
    "# example 1\n",
    "\n",
    "count = 0\n",
    "while (count < 10):\n",
    "\tprint count\n",
    "\tcount = count + 1"
   ]
  },
  {
   "cell_type": "raw",
   "metadata": {},
   "source": [
    "# example 2\n",
    "\n",
    "count = 0\n",
    "while (count > 5):\n",
    "\tprint count\n",
    "\tcount = count + 1"
   ]
  },
  {
   "cell_type": "raw",
   "metadata": {},
   "source": [
    "# example 3\n",
    "\n",
    "count = 0\n",
    "while (count != 5):\n",
    "\tprint count\n",
    "\tcount = count + 1"
   ]
  },
  {
   "cell_type": "raw",
   "metadata": {},
   "source": [
    "# example 4\n",
    "\n",
    "count = 0\n",
    "while (count != 5):\n",
    "\tprint count\n",
    "count = count + 1"
   ]
  },
  {
   "cell_type": "raw",
   "metadata": {},
   "source": [
    "# example 5\n",
    "\n",
    "count = 0\n",
    "while (count != 5):\n",
    "\tprint count\n",
    "\tcount = count + 2"
   ]
  },
  {
   "cell_type": "markdown",
   "metadata": {},
   "source": [
    "> Answer Key\n",
    "\n",
    "> 1. No\n",
    "2. No (in fact this won't print anything at all, since the condition \"`count > 5`\" is never `True`)\n",
    "3. No\n",
    "4. Yes (we never increment `count` within the loop, so it never becomes equal to 5.)\n",
    "5. Yes (since we're incrementing `count` by 2 each time, count takes the values 0, 2, 4, 6, 8, etc. So `count` never equals 5, so the condition \"`count != 5`\" never becomes `False`, and we keep looping forever.)"
   ]
  },
  {
   "cell_type": "markdown",
   "metadata": {},
   "source": [
    "## More on `range()`\n",
    "---\n",
    "\n",
    "As it turns out, `range()` is a pretty cool function that can create many different kinds of number series. Here's the full definition:\n",
    "\n",
    "\n",
    "**[ Definition ] `range()`**\n",
    "\n",
    "**Purpose:** Creates a list with the indicated range of integers from `start` to `end-1`. If only one argument is given, this argument is assumed to be the `end` value and the `start` is assumed to be 0, so a list of integers from 0 to `end-1` is created.\n",
    "\n",
    "**Syntax:**\n",
    "\n",
    "    range(end)\n",
    "    range(start, end, interval)\n",
    "\n",
    "**Notes:**\n",
    "   \n",
    "   - Notice that this function does different things depending on how many parameters you give it. This is true of many functions in Python.\n",
    "   - It may seem a little odd that the default is to create the list from 0 to end-1, but since most things in programming start counting at 0, it ends up being more convenient this way. More on this next time.\n",
    "\n",
    "**Examples:**"
   ]
  },
  {
   "cell_type": "code",
   "execution_count": 1,
   "metadata": {
    "collapsed": false
   },
   "outputs": [
    {
     "name": "stdout",
     "output_type": "stream",
     "text": [
      "[0, 1, 2, 3, 4]\n"
     ]
    }
   ],
   "source": [
    "print range(5)"
   ]
  },
  {
   "cell_type": "code",
   "execution_count": 2,
   "metadata": {
    "collapsed": false
   },
   "outputs": [
    {
     "name": "stdout",
     "output_type": "stream",
     "text": [
      "[1, 2, 3, 4, 5]\n"
     ]
    }
   ],
   "source": [
    "print range(1, 6)"
   ]
  },
  {
   "cell_type": "code",
   "execution_count": 3,
   "metadata": {
    "collapsed": false
   },
   "outputs": [
    {
     "name": "stdout",
     "output_type": "stream",
     "text": [
      "[0, 2, 4, 6, 8, 10]\n"
     ]
    }
   ],
   "source": [
    "print range(0, 11, 2)"
   ]
  },
  {
   "cell_type": "markdown",
   "metadata": {},
   "source": [
    "\n",
    "### `range()` in action\n",
    "\n",
    "Below are several examples of code using `range()`. For each code block, first try to guess what the output will be, and then run the block to see the answer."
   ]
  },
  {
   "cell_type": "code",
   "execution_count": 4,
   "metadata": {
    "collapsed": false
   },
   "outputs": [
    {
     "name": "stdout",
     "output_type": "stream",
     "text": [
      "[0, 1, 2, 3]\n"
     ]
    }
   ],
   "source": [
    "print range(4)"
   ]
  },
  {
   "cell_type": "code",
   "execution_count": 5,
   "metadata": {
    "collapsed": false
   },
   "outputs": [
    {
     "name": "stdout",
     "output_type": "stream",
     "text": [
      "[4, 5, 6, 7]\n"
     ]
    }
   ],
   "source": [
    "print range(4, 8)"
   ]
  },
  {
   "cell_type": "code",
   "execution_count": 6,
   "metadata": {
    "collapsed": false
   },
   "outputs": [
    {
     "name": "stdout",
     "output_type": "stream",
     "text": [
      "[0, 10, 20, 30, 40]\n"
     ]
    }
   ],
   "source": [
    "print range(0, 50, 10)"
   ]
  },
  {
   "cell_type": "code",
   "execution_count": 7,
   "metadata": {
    "collapsed": false
   },
   "outputs": [
    {
     "name": "stdout",
     "output_type": "stream",
     "text": [
      "[50, 40, 30, 20, 10]\n"
     ]
    }
   ],
   "source": [
    "print range(50, 0, -10)"
   ]
  },
  {
   "cell_type": "markdown",
   "metadata": {},
   "source": [
    "## More on reading and writing files\n",
    "---\n",
    "\n",
    "### Other ways to read files\n",
    "\n",
    "You don't have to read a file using a loop. You can also read it manually line by line, or dump all the lines into a list. We won't go over those methods much here, but here is a list of some of the more useful functions that are available:\n",
    "\n",
    "- `.read()` - reads in the entire file at once as a single string\n",
    "- `.readline()` - reads one line at a time\n",
    "- `.readlines()` - reads all lines in file into a list\n",
    "- `.close()` - close the file \n",
    "\n",
    "Example:"
   ]
  },
  {
   "cell_type": "code",
   "execution_count": 8,
   "metadata": {
    "collapsed": false
   },
   "outputs": [
    {
     "name": "stdout",
     "output_type": "stream",
     "text": [
      "uc007afd.1\n",
      "\n",
      "uc007aln.1\n",
      "\n",
      "['uc007afr.1\\n', 'uc007atn.1\\n', 'uc007bcd.1\\n', 'uc007bmh.1\\n', 'uc007byr.1']\n"
     ]
    }
   ],
   "source": [
    "inFile = open(\"../data/genes.txt\", 'r')  \n",
    "\n",
    "header = inFile.readline()       #read first line of file (often we do this to get rid of a header)\n",
    "line = inFile.readline()         #read second line of file (repeatedly calling .readline() progresses through the file)\n",
    "restOfLines = inFile.readlines() #read rest into list (each line will be an element)\n",
    "\n",
    "inFile.close()                   \n",
    "\n",
    "print header\n",
    "print line\n",
    "print restOfLines"
   ]
  },
  {
   "cell_type": "markdown",
   "metadata": {},
   "source": [
    "### Reading and writing can be done at the same time \n",
    "(as long as it's to different files!)"
   ]
  },
  {
   "cell_type": "code",
   "execution_count": 10,
   "metadata": {
    "collapsed": false
   },
   "outputs": [],
   "source": [
    "infileName = \"../data/genes.txt\"\n",
    "outfileName = \"../output/output3.txt\"\n",
    "\n",
    "inFile = open(infileName, 'r')\n",
    "outFile = open(outfileName, 'w')\n",
    "\n",
    "for line in inFile:\n",
    "    line = line.rstrip('\\r\\n')\n",
    "    outFile.write(\"Found \" + line + \"\\n\")\n",
    "\n",
    "outFile.close()\n",
    "inFile.close()"
   ]
  },
  {
   "cell_type": "markdown",
   "metadata": {},
   "source": [
    "This code prints the following to \"output3.txt\":\n",
    "\n",
    "    Found uc007afd.1\n",
    "    Found uc007aln.1\n",
    "    Found uc007afr.1\n",
    "    Found uc007atn.1\n",
    "    Found uc007bcd.1\n",
    "    Found uc007bmh.1\n",
    "    Found uc007byr.1"
   ]
  },
  {
   "cell_type": "markdown",
   "metadata": {},
   "source": [
    "## The `\\t` character\n",
    "---\n",
    "\n",
    "`\\t` is the tab character. Much like `\\n`, it is invisible in most text editors. You can use it like this:"
   ]
  },
  {
   "cell_type": "code",
   "execution_count": 11,
   "metadata": {
    "collapsed": false
   },
   "outputs": [
    {
     "name": "stdout",
     "output_type": "stream",
     "text": [
      "Hello\tHello\tHello\n"
     ]
    }
   ],
   "source": [
    "print \"Hello\\tHello\\tHello\""
   ]
  },
  {
   "cell_type": "markdown",
   "metadata": {},
   "source": [
    "As you'll see in the next lesson, we often work with tab-delimited text files, so it's useful to know how to make a tab in your output files."
   ]
  },
  {
   "cell_type": "markdown",
   "metadata": {},
   "source": [
    "## The += shortcut\n",
    "---\n",
    "\n",
    "In this lesson, we saw a lot of situations like this:"
   ]
  },
  {
   "cell_type": "code",
   "execution_count": 12,
   "metadata": {
    "collapsed": false
   },
   "outputs": [
    {
     "name": "stdout",
     "output_type": "stream",
     "text": [
      "10\n"
     ]
    }
   ],
   "source": [
    "count = 0\n",
    "\n",
    "while count < 10:\n",
    "    count = count + 1\n",
    "    \n",
    "print count"
   ]
  },
  {
   "cell_type": "code",
   "execution_count": 13,
   "metadata": {
    "collapsed": false
   },
   "outputs": [
    {
     "name": "stdout",
     "output_type": "stream",
     "text": [
      "aaaaa\n"
     ]
    }
   ],
   "source": [
    "string = \"\"\n",
    "\n",
    "for i in range(5):\n",
    "    string = string + \"a\"\n",
    "    \n",
    "print string"
   ]
  },
  {
   "cell_type": "markdown",
   "metadata": {},
   "source": [
    "Basically, these are situations where we're adding or concatonating something to an existing variable, and then overwriting the old value of the variable with the new value. \n",
    "\n",
    "We do this so much in programming that there's actually a shorthand for it: `+=`. Here's what the same examples look like using this shortcut:"
   ]
  },
  {
   "cell_type": "code",
   "execution_count": 14,
   "metadata": {
    "collapsed": false
   },
   "outputs": [
    {
     "name": "stdout",
     "output_type": "stream",
     "text": [
      "10\n"
     ]
    }
   ],
   "source": [
    "count = 0\n",
    "\n",
    "while count < 10:\n",
    "    count += 1\n",
    "    \n",
    "print count"
   ]
  },
  {
   "cell_type": "code",
   "execution_count": 15,
   "metadata": {
    "collapsed": false
   },
   "outputs": [
    {
     "name": "stdout",
     "output_type": "stream",
     "text": [
      "aaaaa\n"
     ]
    }
   ],
   "source": [
    "string = \"\"\n",
    "\n",
    "for i in range(5):\n",
    "    string += \"a\"\n",
    "    \n",
    "print string"
   ]
  },
  {
   "cell_type": "markdown",
   "metadata": {},
   "source": [
    "So this saves you a little bit of typing. You'll see this shortcut used quite a bit in real life Python code."
   ]
  }
 ],
 "metadata": {
  "kernelspec": {
   "display_name": "Python 2",
   "language": "python",
   "name": "python2"
  },
  "language_info": {
   "codemirror_mode": {
    "name": "ipython",
    "version": 2
   },
   "file_extension": ".py",
   "mimetype": "text/x-python",
   "name": "python",
   "nbconvert_exporter": "python",
   "pygments_lexer": "ipython2",
   "version": "2.7.11"
  }
 },
 "nbformat": 4,
 "nbformat_minor": 0
}
